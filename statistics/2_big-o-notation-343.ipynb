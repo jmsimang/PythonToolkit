{
 "cells": [
  {
   "cell_type": "markdown",
   "metadata": {},
   "source": [
    "# Code comprehension and unit testing"
   ]
  },
  {
   "cell_type": "markdown",
   "metadata": {},
   "source": [
    "Before getting in to algorithmic complexity and Big O notation, we'll first take a detour to what it means to write readable python code. This is an important skill for any data scientist in the work place, and an especially important skill for you when you revisit your code later down the line."
   ]
  },
  {
   "cell_type": "markdown",
   "metadata": {},
   "source": [
    "## Imported modules"
   ]
  },
  {
   "cell_type": "code",
   "execution_count": 1,
   "metadata": {},
   "outputs": [
    {
     "name": "stdout",
     "output_type": "stream",
     "text": [
      "Requirement already satisfied: pep8 in c:\\users\\user\\anaconda3\\lib\\site-packages (1.7.1)\n",
      "Requirement already satisfied: pep257 in c:\\users\\user\\anaconda3\\lib\\site-packages (0.7.0)\n"
     ]
    },
    {
     "name": "stderr",
     "output_type": "stream",
     "text": [
      "C:\\Users\\User\\Anaconda3\\lib\\site-packages\\pep8.py:110: FutureWarning: Possible nested set at position 1\n",
      "  EXTRANEOUS_WHITESPACE_REGEX = re.compile(r'[[({] | []}),;:]')\n"
     ]
    }
   ],
   "source": [
    "# is your formating up to scratch\n",
    "!pip install pep8\n",
    "!pip install pep257\n",
    "\n",
    "import pep8\n",
    "import pep257"
   ]
  },
  {
   "cell_type": "code",
   "execution_count": 2,
   "metadata": {},
   "outputs": [],
   "source": [
    "# methods for testing outcomes\n",
    "import unittest"
   ]
  },
  {
   "cell_type": "markdown",
   "metadata": {},
   "source": [
    "## Documentation or \"Getting help\""
   ]
  },
  {
   "cell_type": "markdown",
   "metadata": {},
   "source": [
    "In general, use as many useful comments as you can in your program to:\n",
    "* explain assumptions\n",
    "* explain important decisions\n",
    "* explain important details\n",
    "* explain problems you're trying to solve\n",
    "* explain problems you're trying to overcome in your program, etc.\n",
    "Code tells you how, comments should tell you why.\n",
    "\n",
    "Comments that contradict the code are worse than no comments.  Always make a priority of keeping the comments up-to-date when the code changes! Comments should be complete sentences.  If a comment is a phrase or sentence, its first word should be capitalized, unless it is an identifier that begins with a lower case letter (never alter the case of identifiers!).\n"
   ]
  },
  {
   "cell_type": "markdown",
   "metadata": {},
   "source": [
    "### Docstrings in python"
   ]
  },
  {
   "cell_type": "markdown",
   "metadata": {},
   "source": [
    "Conventions for writing good documentation strings (a.k.a. \"docstrings\") are immortalized in PEP 257.\n",
    "* Write docstrings for all public modules, functions, classes, and methods.  Docstrings are not necessary for non-public methods, but you should have a comment that describes what the method does.  This comment should appear after the ``def`` line.\n",
    "* PEP 257 describes good docstring conventions.  Note that most importantly, the ``\"\"\"`` that ends a multiline docstring should be on a line by itself, e.g.:\n",
    "      \"\"\"Return a foobang\n",
    "      Optional plotz says to frobnicate the bizbaz first.\n",
    "      \"\"\"\n",
    "* For one liner docstrings, please keep the closing ``\"\"\"`` on the same line."
   ]
  },
  {
   "cell_type": "markdown",
   "metadata": {},
   "source": [
    "### Python code conventions"
   ]
  },
  {
   "cell_type": "markdown",
   "metadata": {},
   "source": [
    "You may have noticed that much of the code we provide you, as well as code that you can find online, have a very consistent style. This style is laid out by the (https://www.python.org/dev/peps/pep-0008/)[PEP8] styling guide. This allows for a consistent and readable format throughout all Python code. "
   ]
  },
  {
   "cell_type": "markdown",
   "metadata": {},
   "source": [
    "The next two examples give an example of a good coding style that obeys PEP8, and one that does not obey PEP8. Both functions are meant to calculate the hypotenuse of a triangle. As a reminder for anyone that is not familiar with this, this is calculated using the Pythagoream Theorem\n",
    "\\begin{equation}\n",
    "c = \\sqrt{a^2+b^2}\n",
    "\\end{equation}"
   ]
  },
  {
   "cell_type": "code",
   "execution_count": 3,
   "metadata": {},
   "outputs": [],
   "source": [
    "# poor code\n",
    "def calculateHypotenuseOfTriangle( arg1,Arg2):\n",
    "    \"\"\"The docstring for this function is too long and does not follow PEP8 conventions. Long docstrings should be over multiple lines and not exceed 72 characters.\n",
    "    \"\"\"\n",
    "    long_and_useless_variable_name = arg1**2\n",
    "    l = Arg2**2\n",
    "    I = long_and_useless_variable_name + l\n",
    "    return I**(1/2)"
   ]
  },
  {
   "cell_type": "markdown",
   "metadata": {},
   "source": [
    "A few things to note of the above code:\n",
    "* The arguments of our function do not have a consistent style, and contain extraneous whitespace.\n",
    "* In general, function names should be lowercase and seperated by an underscore (_) between words.\n",
    "* Our function docstring is too long\n",
    "* The closing `\"\"\"` ends on another line.\n",
    "* Variable names within our function are inconsistent.\n",
    "* We have very long variable names for unimportant quantities.\n",
    "* We use lowercase l and uppercase I as variable names, which should generally be avoided as many fonts represent these with the same character.\n",
    "* Our code is not readable\n",
    "\n",
    "Alright, now on to the good code:"
   ]
  },
  {
   "cell_type": "code",
   "execution_count": 4,
   "metadata": {},
   "outputs": [],
   "source": [
    "# good code\n",
    "def hypotenuse(a, b):\n",
    "    \"\"\"Calculates the hypotenuse of a 2-dimensional triangle.\n",
    "    \n",
    "    Parameters\n",
    "    ----------\n",
    "    \n",
    "    a: float\n",
    "        The length of one of the sides of our triangle.\n",
    "    \n",
    "    b: float\n",
    "        The length of the other side of our triangle.\n",
    "    \n",
    "    Returns\n",
    "    -------\n",
    "    \n",
    "    c: float\n",
    "        The hypotenuse of our triangle\n",
    "    \"\"\"\n",
    "    # calculate c\n",
    "    c = (a**2 + b**2)**(1/2)\n",
    "    return c"
   ]
  },
  {
   "cell_type": "markdown",
   "metadata": {},
   "source": [
    "See the difference? \n",
    "* Our code is very readable.\n",
    "* Our docstring is properly formatted.\n",
    "* The function name and arguments follow conventional labelling.\n",
    "* The function arguments are well defined in the docstring, giving an indication of their datatype as well as a short description.\n",
    "* The returned variable of our function is in our docstring.\n",
    "* Variable names follow mathematical convention.\n",
    "\n",
    "A good tip when it comes to writing code is to try and write something that is readable. As an exercise, try swapping chairs with someone next to you. If they can't read your code, then use this opportunity to improve your code comprehension! Remember: you'll often have to code in teams, and your code will be of no use if you're the only one that can decipher it!"
   ]
  },
  {
   "cell_type": "markdown",
   "metadata": {},
   "source": [
    "For more information on PEP8, PEP257, and unit testing, see:\n",
    "\n",
    "https://www.python.org/dev/peps/pep-0008/\n",
    "\n",
    "https://www.python.org/dev/peps/pep-0257/\n",
    "\n",
    "https://docs.python.org/3/library/unittest.html"
   ]
  },
  {
   "cell_type": "markdown",
   "metadata": {},
   "source": [
    "You can also directly access the docstring of PEP8 (or any python package) directly in jupyter notebook by using `help(package_name)`. You can also use `package_name?` in jupyter for any python package or function in order to access a pop-out window containing its docstring."
   ]
  },
  {
   "cell_type": "code",
   "execution_count": null,
   "metadata": {
    "scrolled": true
   },
   "outputs": [],
   "source": [
    "help(pep8)"
   ]
  },
  {
   "cell_type": "code",
   "execution_count": null,
   "metadata": {},
   "outputs": [],
   "source": [
    "help(pep257)"
   ]
  },
  {
   "cell_type": "code",
   "execution_count": null,
   "metadata": {},
   "outputs": [],
   "source": [
    "help(unittest)"
   ]
  },
  {
   "cell_type": "code",
   "execution_count": null,
   "metadata": {},
   "outputs": [],
   "source": [
    "pep8?"
   ]
  },
  {
   "cell_type": "markdown",
   "metadata": {},
   "source": [
    "# What is programming complexity and why is it important?"
   ]
  },
  {
   "cell_type": "markdown",
   "metadata": {},
   "source": [
    "In this assignment you will be introduced to the concept of Algorithmic Complexity and why it is important when learning how to code.  Pay particular attention to the coding of some of the sort algorithms as you will be tested on these for your accreditation standards."
   ]
  },
  {
   "cell_type": "markdown",
   "metadata": {},
   "source": [
    "## Imported modules"
   ]
  },
  {
   "cell_type": "code",
   "execution_count": 5,
   "metadata": {},
   "outputs": [],
   "source": [
    "import random\n",
    "from time import time\n",
    "from timeit import timeit\n",
    "import numpy as np\n",
    "import matplotlib.pyplot as plt\n",
    "%matplotlib inline"
   ]
  },
  {
   "cell_type": "markdown",
   "metadata": {},
   "source": [
    "## Complexity and Big O Notation"
   ]
  },
  {
   "cell_type": "markdown",
   "metadata": {},
   "source": [
    "Big O notation is used in Computer Science to describe the performance or complexity of an algorithm. Technically, Big O is defined as the asymptotic upper limit of a function. In plain english, it means that is a function that covers the maximum values a function could take. As we saw a little earlier this notation help us to predict performance and compare algorithms."
   ]
  },
  {
   "cell_type": "markdown",
   "metadata": {},
   "source": [
    " Big O specifically describes the worst-case scenario, and can be used to describe the execution time required or the space used (e.g. in memory or on disk) by an algorithm."
   ]
  },
  {
   "cell_type": "markdown",
   "metadata": {},
   "source": [
    "| Growth Rate | Name         |\n",
    "|-------------|--------------|\n",
    "| O(1)        | Constant     |\n",
    "| O(logn)     | Logarithmic  |\n",
    "| O(n)        | Linear       |\n",
    "| O(nlogn)    | Linearithmic | \n",
    "| O(n$^2$)    | Quadratic    |\n",
    "| O(n$^3$)    | Cubic        |\n",
    "| O(2$^n$)    | Exponential  |"
   ]
  },
  {
   "cell_type": "markdown",
   "metadata": {},
   "source": [
    "What is an algorithm?\n",
    "https://en.wikipedia.org/wiki/Algorithm\n",
    "\n",
    "Big O Notation - https://en.wikipedia.org/wiki/Big_O_notation\n",
    "\n",
    "Sometimes, there is more than one way to solve a problem. We need to learn how to compare the performance of different algorithms and choose the best one to solve a particular problem. While analyzing an algorithm, we mostly consider time complexity and space complexity. \n",
    "* Time complexity of an algorithm quantifies the amount of time taken by an algorithm to run as a function of the length of the input.\n",
    "\n",
    "* Space complexity of an algorithm quantifies the amount of space or memory taken by an algorithm to run as a function of the length of the input.\n",
    "\n",
    "Time and space complexity depends on lots of things like hardware, operating system, processors, etc. However, we don't consider any of these factors while analyzing the algorithm. We will only consider the execution time of an algorithm."
   ]
  },
  {
   "cell_type": "markdown",
   "metadata": {},
   "source": [
    "This tutorial will help you gain an understanding of the basics of Big O Notation. So, below are some common orders of growth along with descriptions and examples where possible."
   ]
  },
  {
   "cell_type": "markdown",
   "metadata": {},
   "source": [
    "### O(1)\n",
    "\n",
    "Constant Time - O(1) - describes an algorithm that will always execute in the same time (or space) regardless of the size of the input data set."
   ]
  },
  {
   "cell_type": "code",
   "execution_count": 6,
   "metadata": {},
   "outputs": [],
   "source": [
    "def is_first_element_null(elements):\n",
    "    return elements[0] == None"
   ]
  },
  {
   "cell_type": "markdown",
   "metadata": {},
   "source": [
    "### O(N)\n",
    "\n",
    "Linear Time - O(N) - describes an algorithm whose performance will grow linearly and in direct proportion to the size of the input data set. \n",
    "The example below also demonstrates how Big O favours the worst-case performance scenario<br>\n",
    "A matching string could be found during any iteration of the for loop and the function would return early, but Big O notation will always assume the upper limit where the algorithm will perform the maximum number of iterations."
   ]
  },
  {
   "cell_type": "code",
   "execution_count": 7,
   "metadata": {},
   "outputs": [],
   "source": [
    "def contains_value(elements, string_val):\n",
    "    \"\"\"run through all elements in the list and compare to the string-val\"\"\"\n",
    "    for e in elements:\n",
    "        if e == string_value:\n",
    "            return True\n",
    "    return False"
   ]
  },
  {
   "cell_type": "markdown",
   "metadata": {},
   "source": [
    "### O(N$^2$)\n",
    "\n",
    "O(N$^2$) represents an algorithm whose performance is directly proportional to the square of the size of the input data set. This is common with algorithms that involve nested iterations over the data set. Deeper nested iterations will result in O(N$^3$), O(N$^4$) etc."
   ]
  },
  {
   "cell_type": "code",
   "execution_count": 8,
   "metadata": {},
   "outputs": [],
   "source": [
    "def contains_duplicates(elements):\n",
    "    \"\"\"check if any element in a list occurs more than once\"\"\"\n",
    "    for i, e1 in enumerate(elements):\n",
    "        for j, e2 in enumerate(elements):\n",
    "            \"\"\"return a true if the elements indices are different and the elements are the same\"\"\"\n",
    "            if ((i != j) & (e1 == e2)):\n",
    "                return True\n",
    "    return False"
   ]
  },
  {
   "cell_type": "markdown",
   "metadata": {},
   "source": [
    "### O(2$^N$)\n",
    "\n",
    "O(2$^N$) denotes an algorithm whose growth doubles with each additon to the input data set. The growth curve of an O(2$^N$) function is exponential - starting off very shallow, then rising meteorically. An example of an O(2$^N$) function is the recursive calculation of Fibonacci numbers:"
   ]
  },
  {
   "cell_type": "code",
   "execution_count": 9,
   "metadata": {},
   "outputs": [],
   "source": [
    "def fibonacci(number):\n",
    "    \"\"\"\n",
    "    the Fibonacci sequenceis characterized by the fact that every number \n",
    "    after the first two is the sum of the two preceding ones        \n",
    "    \"\"\"\n",
    "    if number <= 1:\n",
    "        return 1\n",
    "    return fibonacci(number - 2) + fibonacci(number - 1)"
   ]
  },
  {
   "cell_type": "markdown",
   "metadata": {},
   "source": [
    "### O(logN)\n",
    "\n",
    "Logarithms are slightly trickier to explain so I'll use a common example:\n",
    "\n",
    "Binary search is a technique used to search sorted data sets. It works by selecting the middle element of the data set, essentially the median, and compares it against a target value. If the values match it will return success. If the target value is higher than the value of the probe element it will take the upper half of the data set and perform the same operation against it. Likewise, if the target value is lower than the value of the probe element it will perform the operation against the lower half. It will continue to halve the data set with each iteration until the value has been found or until it can no longer split the data set.\n",
    "\n",
    "This type of algorithm is described as O(log N). The iterative halving of data sets described in the binary search example produces a growth curve that peaks at the beginning and slowly flattens out as the size of the data sets increase e.g. an input data set containing 10 items takes one second to complete, a data set containing 100 items takes two seconds, and a data set containing 1000 items will take three seconds. Doubling the size of the input data set has little effect on its growth as after a single iteration of the algorithm the data set will be halved and therefore on a par with an input data set half the size. This makes algorithms like binary search extremely efficient when dealing with large data sets."
   ]
  },
  {
   "cell_type": "markdown",
   "metadata": {},
   "source": [
    "![binary-search.png](https://github.com/Explore-AI/Pictures/blob/master/binary-search.png?raw=true)"
   ]
  },
  {
   "cell_type": "markdown",
   "metadata": {},
   "source": [
    "Figure 6: The recursion performed by binary search. The A argument for each call is highlighted in black. The recursion continues until the array examined consists of only one element. Courtesy of Luke Francl."
   ]
  },
  {
   "cell_type": "code",
   "execution_count": 10,
   "metadata": {},
   "outputs": [],
   "source": [
    "def binary_search(elements, string_val):\n",
    "\n",
    "    if len(elements) == 1:\n",
    "        return 0 if elements[0] == string_val else None\n",
    "    \n",
    "    mid = len(elements) // 2\n",
    "    if string_val == elements[mid]:\n",
    "        return mid\n",
    "    \n",
    "    if string_val < elements[mid]:\n",
    "        return binarySearch(elements[:mid], string_val)\n",
    "    else:\n",
    "        return mid + binarySearch(elements[mid:], string_val)\n",
    "    \n"
   ]
  },
  {
   "cell_type": "code",
   "execution_count": 11,
   "metadata": {},
   "outputs": [
    {
     "data": {
      "text/plain": [
       "4"
      ]
     },
     "execution_count": 11,
     "metadata": {},
     "output_type": "execute_result"
    }
   ],
   "source": [
    "binary_search([1, 2, 3, 4, 5, 6, 7, 8, 9, 10], 5)"
   ]
  },
  {
   "cell_type": "markdown",
   "metadata": {},
   "source": [
    "## Sorting Algorithms"
   ]
  },
  {
   "cell_type": "markdown",
   "metadata": {
    "collapsed": true
   },
   "source": [
    "A sorting algorithm is an algorithm that puts elements of a list in a certain order. The most-used orders are numerical order and lexicographical order. Efficient sorting is important for optimizing the use of other algorithms (such as search and merge algorithms) which require input data to be in sorted lists; it is also often useful for canonicalizing data and for producing human-readable output. More formally, the output must satisfy two conditions:\n",
    "* The output is in nondecreasing order (each element is no smaller than the previous element according to the desired total order);\n",
    "* The output is a permutation (reordering but with all of the original elements) of the input.\n"
   ]
  },
  {
   "cell_type": "markdown",
   "metadata": {},
   "source": [
    "### Bubble Sort"
   ]
  },
  {
   "cell_type": "markdown",
   "metadata": {},
   "source": [
    "http://en.wikipedia.org/wiki/Bubble_sort"
   ]
  },
  {
   "cell_type": "markdown",
   "metadata": {},
   "source": [
    "Bubble sort is one of the most basic sorting algorithm that is the simplest to understand. It’s basic idea is to bubble up the largest(or smallest), then the 2nd largest and the the 3rd and so on to the end of the list. Each bubble up takes a full sweep through the list."
   ]
  },
  {
   "cell_type": "markdown",
   "metadata": {},
   "source": [
    "```\n",
    "# pseudo code\n",
    "procedure bubble_sort( input A which is a list of sortable items )\n",
    "    n = length(A)\n",
    "    repeat \n",
    "        swapped = false\n",
    "        for i = 1 to n-1 inclusive do\n",
    "            /* if this pair is out of order */\n",
    "            if A[i-1] > A[i] then\n",
    "                /* swap them and remember something changed */\n",
    "                swap( A[i-1], A[i] )\n",
    "                swapped = true\n",
    "            end if\n",
    "        end for\n",
    "    until not swapped\n",
    "end procedure\n",
    "```"
   ]
  },
  {
   "cell_type": "code",
   "execution_count": 12,
   "metadata": {},
   "outputs": [],
   "source": [
    "def bubble_sort(items):\n",
    "    \"\"\" Implementation of bubble sort \"\"\"\n",
    "    out = items.copy() # in place protection on items\n",
    "    for i in range(len(out)):\n",
    "        for j in range(len(out)-1-i):\n",
    "            if out[j] > out[j+1]:\n",
    "                out[j], out[j+1] = out[j+1], out[j]     # Swap!\n",
    "    \n",
    "    return out"
   ]
  },
  {
   "cell_type": "markdown",
   "metadata": {},
   "source": [
    "### Insertion Sort\n",
    "\n",
    "http://en.wikipedia.org/wiki/Insertion_sort\n",
    "\n",
    "Insertion sort works by taking elements from the unsorted list and inserting them at the right place in a new sorted list. The sorted list is empty in the beginning. Since the total number of elements in the new and old list stays the same, we can use the same list to represent the sorted and the unsorted sections."
   ]
  },
  {
   "cell_type": "markdown",
   "metadata": {},
   "source": [
    "```\n",
    "# pseudo code\n",
    "i ← 1\n",
    "while i < length(A)\n",
    "    j ← i\n",
    "    while j > 0 and A[j-1] > A[j]\n",
    "        swap A[j] and A[j-1]\n",
    "        j ← j - 1\n",
    "    end while\n",
    "    i ← i + 1\n",
    "end while\n",
    "```"
   ]
  },
  {
   "cell_type": "code",
   "execution_count": 13,
   "metadata": {},
   "outputs": [],
   "source": [
    "def insertion_sort(items):\n",
    "    \"\"\" Implementation of insertion sort \"\"\"\n",
    "    new_list = [items[0]]    \n",
    "    for x in items[1:]:\n",
    "        i = 0\n",
    "        while (i < len(new_list)) and (x > new_list[i]):\n",
    "            i += 1\n",
    "        new_list.insert(i, x)            \n",
    "    return new_list"
   ]
  },
  {
   "cell_type": "markdown",
   "metadata": {},
   "source": [
    "### Merge Sort\n",
    "\n",
    "http://en.wikipedia.org/wiki/Merge_sort\n",
    "\n",
    "Merge sort works by subdividing the the list into two sub-lists, sorting them using Merge sort and then merging them back up. As the recursive call is made to subdivide each list into a sublist, they will eventually reach the size of 1, which is technically a sorted list."
   ]
  },
  {
   "cell_type": "markdown",
   "metadata": {},
   "source": [
    "NOTE: how we created 2 different functions"
   ]
  },
  {
   "cell_type": "markdown",
   "metadata": {},
   "source": [
    "``` \n",
    "# pseudo code\n",
    "function merge(left, right)\n",
    "    result starts as an empty list\n",
    "\n",
    "    while left is not empty and right is not empty do\n",
    "        if first(left) ≤ first(right) then\n",
    "            append first(left) to result\n",
    "            left := rest(left)\n",
    "        else\n",
    "            append first(right) to result\n",
    "            right := rest(right)\n",
    "\n",
    "    # Either left or right may have elements left; consume them.\n",
    "    # (Only one of the following loops will actually be entered.)\n",
    "    while left is not empty do\n",
    "        append first(left) to result\n",
    "        left := rest(left)\n",
    "    while right is not empty do\n",
    "        append first(right) to result\n",
    "        right := rest(right)\n",
    "    return result\n",
    "```"
   ]
  },
  {
   "cell_type": "markdown",
   "metadata": {},
   "source": [
    "```\n",
    "# model solution\n",
    "function merge_sort(list m)\n",
    "    # Base case. A list of zero or one elements is sorted, by definition.\n",
    "    if length of m ≤ 1 then\n",
    "        return m\n",
    "\n",
    "    # Recursive case. First, divide the list into equal-sized sublists\n",
    "    # consisting of the first half and second half of the list.\n",
    "    # This assumes lists start at index 0.\n",
    "    left starts as an empty list\n",
    "    right starts as an  empty list\n",
    "    for each x with index i in m do\n",
    "        if i < (length of m)/2 then\n",
    "            add x to left\n",
    "        else\n",
    "            add x to right\n",
    "\n",
    "    # Recursively sort both sublists.\n",
    "    left := merge_sort(left)\n",
    "    right := merge_sort(right)\n",
    "\n",
    "    # Then merge the now-sorted sublists.\n",
    "    return merge(left, right)\n",
    "```"
   ]
  },
  {
   "cell_type": "code",
   "execution_count": 14,
   "metadata": {},
   "outputs": [],
   "source": [
    "def merge(A, B):    \n",
    "    new_list = []\n",
    "    while len(A) > 0 and len(B) > 0:\n",
    "        if A[0] < B[0]:\n",
    "            new_list.append(A[0])\n",
    "            A.pop(0)\n",
    "        else:\n",
    "            new_list.append(B[0])\n",
    "            B.pop(0)\n",
    "    \n",
    "    if len(A) == 0:\n",
    "        new_list = new_list + B    \n",
    "    if len(B) == 0:\n",
    "        new_list = new_list + A\n",
    "        \n",
    "    return new_list        \n",
    "            \n",
    "\n",
    "def merge_sort(items):\n",
    "    \n",
    "    len_i = len(items)\n",
    "    if len_i == 1:\n",
    "        return items       \n",
    "        \n",
    "    mid_point = int(len_i / 2)\n",
    "    i1 = merge_sort(items[:mid_point])\n",
    "    i2 = merge_sort(items[mid_point:])       \n",
    "    \n",
    "    return merge(i1, i2)\n",
    "    "
   ]
  },
  {
   "cell_type": "markdown",
   "metadata": {},
   "source": [
    "### Quick Sort\n",
    "\n",
    "http://en.wikipedia.org/wiki/Quicksort\n",
    "\n",
    "Quick sort works by first selecting a pivot element from the list. It then creates two lists, one containing elements less than the pivot and the other containing elements higher than the pivot. It then sorts the two lists and join them with the pivot in between. Just like the Merge sort, when the lists are subdivided to lists of size 1, they are considered as already sorted."
   ]
  },
  {
   "cell_type": "code",
   "execution_count": 15,
   "metadata": {},
   "outputs": [],
   "source": [
    "# model solution\n",
    "def quick_sort(items, index=-1):\n",
    "    \"\"\"\n",
    "    the quick sort algorithm takes in an unsorted list of numbers.\n",
    "    returns a list in ascending order.\n",
    "\n",
    "    Parameters\n",
    "    ----------\n",
    "    items : list\n",
    "        list of unordered numbers\n",
    "    index: int, optional\n",
    "        index number at which to choose the split value\n",
    "        default set to the last item in the input list\n",
    "\n",
    "    Returns\n",
    "    -------\n",
    "    list\n",
    "        list of elements in items in ascending order\n",
    "    \"\"\"\n",
    "    len_i = len(items)\n",
    "\n",
    "    if len_i <= 1:\n",
    "        # Logic Error\n",
    "        # identified with test run [1,5,4,3, 2, 6, 5, 4, 3, 8, 6, 5, 3, 1]\n",
    "        # len <= 1\n",
    "        return items\n",
    "\n",
    "    pivot = items[index]\n",
    "    small = []\n",
    "    large = []\n",
    "    dup = []\n",
    "    for i in items:\n",
    "        if i < pivot:\n",
    "            small.append(i)\n",
    "        elif i > pivot:\n",
    "            large.append(i)\n",
    "        elif i == pivot:\n",
    "            dup.append(i)\n",
    "\n",
    "    small = quick_sort(small)\n",
    "    large = quick_sort(large)\n",
    "\n",
    "    return small + dup + large\n"
   ]
  },
  {
   "cell_type": "markdown",
   "metadata": {},
   "source": [
    "## Heap Sort\n",
    "\n",
    "http://en.wikipedia.org/wiki/Heapsort\n",
    "\n",
    "This implementation uses the built in heap data structures in Python. To truly understand heepsort, one must implement the heapify() function themselves. See is you can code the heapsort algorithm yourself."
   ]
  },
  {
   "cell_type": "code",
   "execution_count": 16,
   "metadata": {},
   "outputs": [],
   "source": [
    "def heap_sort(items):\n",
    "    # extra credit\n",
    "    return"
   ]
  },
  {
   "cell_type": "code",
   "execution_count": null,
   "metadata": {
    "scrolled": true
   },
   "outputs": [],
   "source": [
    "# unit test for your heap_sort function\n",
    "# this should return True if you're heap_sort was programmed correctly\n",
    "items = [1, -3, 2, 0, 3, -2, -1]\n",
    "heap_sort(items) == [-3, -2, -1, 0, 1, 2, 3]"
   ]
  },
  {
   "cell_type": "markdown",
   "metadata": {},
   "source": [
    "# Comparison of sorting algorithms"
   ]
  },
  {
   "cell_type": "markdown",
   "metadata": {},
   "source": [
    "We will try and visualise the run-time results of these algorithms. before we do, which do you think is the fastest?"
   ]
  },
  {
   "cell_type": "code",
   "execution_count": 17,
   "metadata": {},
   "outputs": [],
   "source": [
    "def get_time(fn, num_loops=10):\n",
    "    output = []\n",
    "    for n in range(num_loops):\n",
    "        start = time()\n",
    "        if type(fn) == str:\n",
    "            eval(fn)\n",
    "        else:\n",
    "            fn\n",
    "        end = time()\n",
    "        output.append(end-start)\n",
    "    output = np.array(output).mean()\n",
    "    return output"
   ]
  },
  {
   "cell_type": "code",
   "execution_count": 18,
   "metadata": {},
   "outputs": [],
   "source": [
    "def get_all_times(fn=[], items=[], num_loops=100):\n",
    "    output = np.zeros((len(fn), len(items)))\n",
    "    for x, f in enumerate(fn):              \n",
    "        for y, i in enumerate(items):            \n",
    "            output[x][y] = get_time('{:s}({:s})'.format(f, str(i)), num_loops=num_loops)\n",
    "    return output"
   ]
  },
  {
   "cell_type": "code",
   "execution_count": 19,
   "metadata": {},
   "outputs": [],
   "source": [
    "num_items = 1000\n",
    "random_items = [random.randint(-100, 100) for c in range(num_items)]\n",
    "ordered = sorted(random_items)\n",
    "reverse_sort = ordered[::-1]"
   ]
  },
  {
   "cell_type": "code",
   "execution_count": 20,
   "metadata": {},
   "outputs": [],
   "source": [
    "fn= ['sorted', 'bubble_sort', 'insertion_sort', 'merge_sort', 'quick_sort', 'heap_sort'] "
   ]
  },
  {
   "cell_type": "code",
   "execution_count": 21,
   "metadata": {},
   "outputs": [],
   "source": [
    "items = ['random_items', 'ordered', 'reverse_sort']"
   ]
  },
  {
   "cell_type": "code",
   "execution_count": 22,
   "metadata": {},
   "outputs": [],
   "source": [
    "compare = get_all_times(fn=fn, items=items)"
   ]
  },
  {
   "cell_type": "code",
   "execution_count": 23,
   "metadata": {},
   "outputs": [
    {
     "data": {
      "image/png": "[encoded data removed]",
      "text/plain": [
       "<Figure size 720x720 with 3 Axes>"
      ]
     },
     "metadata": {
      "needs_background": "light"
     },
     "output_type": "display_data"
    }
   ],
   "source": [
    "fig, ax = plt.subplots(3, 1, figsize=(10,10), gridspec_kw={'hspace': 0.3})\n",
    "max_out = compare.max() * 1.2\n",
    "min_out = 0\n",
    "for i, a, f in zip(range(len(items)), ax, items):    \n",
    "    a.bar(x=range(len(fn)), height=compare[:,i])\n",
    "    a.set_title(f)\n",
    "    a.set_ylim(bottom=min_out, top=max_out)\n",
    "    a.set_xticklabels([''] + fn, ha=\"center\")\n",
    "    a.set_ylabel('time (s)')\n",
    "    for j, h in zip(range(len(fn)), compare[:, i]):\n",
    "        a.text(j, h + 0.01, '%.5f' %h, ha='center')\n",
    "plt.show()"
   ]
  },
  {
   "cell_type": "markdown",
   "metadata": {},
   "source": [
    "## Performance characteristics as input size increases"
   ]
  },
  {
   "cell_type": "code",
   "execution_count": 24,
   "metadata": {},
   "outputs": [],
   "source": [
    "n_runs = [1, 5, 10, 25, 50, 100, 250, 500, 1000, 2000, 3000, 4000, 5000]\n",
    "n_random = [[random.randint(-100, 100) for c in range(n)] for n in n_runs]"
   ]
  },
  {
   "cell_type": "code",
   "execution_count": 25,
   "metadata": {},
   "outputs": [],
   "source": [
    "scale = get_all_times(fn=fn, items=n_random, num_loops=1)"
   ]
  },
  {
   "cell_type": "code",
   "execution_count": 26,
   "metadata": {},
   "outputs": [
    {
     "name": "stderr",
     "output_type": "stream",
     "text": [
      "C:\\Users\\User\\Anaconda3\\lib\\site-packages\\matplotlib\\figure.py:445: UserWarning: Matplotlib is currently using module://ipykernel.pylab.backend_inline, which is a non-GUI backend, so cannot show the figure.\n",
      "  % get_backend())\n"
     ]
    },
    {
     "data": {
      "image/png": "[encoded data removed]",
      "text/plain": [
       "<Figure size 720x720 with 1 Axes>"
      ]
     },
     "metadata": {
      "needs_background": "light"
     },
     "output_type": "display_data"
    }
   ],
   "source": [
    "fig, ax = plt.subplots(1, 1, figsize=(10,10))\n",
    "max_out = compare.max() * 1.2\n",
    "min_out = 0\n",
    "for i, f in enumerate(fn):    \n",
    "    ax.plot(n_runs, scale[i], label=f)\n",
    "    ax.legend()\n",
    "fig.show()"
   ]
  },
  {
   "cell_type": "markdown",
   "metadata": {},
   "source": [
    "# Further reading:"
   ]
  },
  {
   "cell_type": "markdown",
   "metadata": {},
   "source": [
    "http://danishmujeeb.com/blog/2014/01/basic-sorting-algorithms-implemented-in-python/?lipi=urn%3Ali%3Apage%3Ad_flagship3_feed%3BCu6nF%2FUCRO2Yz9VwNtpJOg%3D%3D"
   ]
  }
 ],
 "metadata": {
  "kernelspec": {
   "display_name": "Python 3",
   "language": "python",
   "name": "python3"
  },
  "language_info": {
   "codemirror_mode": {
    "name": "ipython",
    "version": 3
   },
   "file_extension": ".py",
   "mimetype": "text/x-python",
   "name": "python",
   "nbconvert_exporter": "python",
   "pygments_lexer": "ipython3",
   "version": "3.7.1"
  }
 },
 "nbformat": 4,
 "nbformat_minor": 2
}
