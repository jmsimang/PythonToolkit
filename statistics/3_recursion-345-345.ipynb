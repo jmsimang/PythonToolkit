{
 "cells": [
  {
   "cell_type": "markdown",
   "metadata": {
    "colab_type": "text",
    "id": "4grXM9VRrTCj"
   },
   "source": [
    "In the previous tutorial, you came across a _recursive_ algorithm called _merge sort_. Recursion offers some sublime solutions to certain problems, especially those that can be broken up into similar but smaller problems. \n",
    "\n",
    "Please read Beau Carnes' [Recursion primer](https://medium.freecodecamp.org/how-recursion-works-explained-with-flowcharts-and-a-video-de61f40cb7f9) for an introduction that includes a brilliant example involving a set of keys, boxes, and a small child. ([also available under pre-processing](https://athena2.explore-datascience.net/student/sprint-resource/all/4/12))\n",
    "\n",
    "This tutorial will provide some more and different non-programatic examples, elaborates on the factorial example, and provides some exercises with which you can practice thinking and coding recursively."
   ]
  },
  {
   "cell_type": "markdown",
   "metadata": {
    "colab_type": "text",
    "id": "4grXM9VRrTCj"
   },
   "source": [
    "# Recursion"
   ]
  },
  {
   "cell_type": "markdown",
   "metadata": {
    "colab_type": "text",
    "id": "4grXM9VRrTCj"
   },
   "source": [
    "_Recursion_, [says Wikipedia](https://en.wikipedia.org/wiki/Recursion), _occurs when a thing is defined in terms of itself or of its type._ It can be tricky to understand, so let's begin with some non-programming examples.\n",
    "\n",
    "Think of it like dream levels in [Inception](http://www.imdb.com/title/tt1375666/), but instead of a dream within a dream within a dream, recursion might be a function call within a function call within a function call."
   ]
  },
  {
   "cell_type": "markdown",
   "metadata": {
    "colab_type": "text",
    "id": "4grXM9VRrTCj"
   },
   "source": [
    "## Recursive Acronyms"
   ]
  },
  {
   "cell_type": "markdown",
   "metadata": {
    "colab_type": "text",
    "id": "4grXM9VRrTCj"
   },
   "source": [
    "An Acronym is a word (thing) formed from an abbreviation of words or phrases. NumPy is an acronym for _Numerical Python_ and Pandas is short for _Python ANd Data AnalysiS_. \n",
    "\n",
    "Computer scientists find great joy in _Recursive Acronyms_: \n",
    "* The popular website scripting language **PHP** is short for _PHP: Hypertext Preprocessor_ \n",
    "* Python's package manager **PIP** is short for _PIP Installs Packages_\n",
    "\n",
    "These are recursive because the definition of the acronym contains the acronym.\n",
    "The acronym is the _form_ of the thing and fun is its _function_."
   ]
  },
  {
   "cell_type": "markdown",
   "metadata": {
    "colab_type": "text",
    "id": "4grXM9VRrTCj"
   },
   "source": [
    "## Recursive functions"
   ]
  },
  {
   "cell_type": "markdown",
   "metadata": {
    "colab_type": "text",
    "id": "4grXM9VRrTCj"
   },
   "source": [
    "Consider the image below. It demonstrates some recursion"
   ]
  },
  {
   "cell_type": "markdown",
   "metadata": {
    "colab_type": "text",
    "id": "4grXM9VRrTCj"
   },
   "source": [
    "![Handsy](https://photos.smugmug.com/Art/The-Droste-Effect/i-Nnk5bWT/2/dee5915f/L/x-L.jpg)"
   ]
  },
  {
   "cell_type": "markdown",
   "metadata": {
    "colab_type": "text",
    "id": "4grXM9VRrTCj"
   },
   "source": [
    "Each arm has a function: It draws a slightly smaller arm that is capable of drawing a slightly smaller arm that is capable of drawing a slightly smaller arm, etc. \n",
    "Note that arm's form and the function recurs for each new arm. \n",
    "\n",
    "Thankfully, each new arm is slightly smaller than it's creator. There will come an arm so small it no longer functions and cannot create another arm. Otherwise there would be an infinite number of arms; all the way down!\n",
    "\n",
    "Recursive functions need two things to recur: a _recursive case_, for which the function calls itself, and  a _base case_ or _terminating condition_ for which the function does **not** call itself."
   ]
  },
  {
   "cell_type": "markdown",
   "metadata": {
    "colab_type": "text",
    "id": "4grXM9VRrTCj"
   },
   "source": [
    "Consider the screenshot below. It also demonstrates recursion; this time with a predefined base case."
   ]
  },
  {
   "cell_type": "markdown",
   "metadata": {
    "colab_type": "text",
    "id": "faQ9P8YfL3eW"
   },
   "source": [
    "![Droste VLC](http://enacademic.com/pictures/enwiki/83/Screenshot_Recursion_via_vlc.png)"
   ]
  },
  {
   "cell_type": "markdown",
   "metadata": {
    "colab_type": "text",
    "id": "faQ9P8YfL3eW"
   },
   "source": [
    "It shows \n",
    "- an Ubuntu desktop which has a VLC window playing a 33:28.20 video of \n",
    "- an Ubuntu desktop which has a VLC window playing a 33:28.19 video of\n",
    "- an Ubuntu desktop which has a VLC window playing a 33:28.18 video of\n",
    "<br/> ...\n",
    "<br/>...\n",
    "- an Ubuntu desktop which has a VLC window playing a 00:00.02 video of\n",
    "- an Ubuntu desktop which has a VLC window playing a 00:00.01 video.\n",
    "\n",
    "\n",
    "Each Window's function is to play a video of itself that is one second shorter than itself. The recursion stops when it tries to play a 00:00.00 video.\n",
    "\n",
    "We say that the _recursive case_ occurs each time the video is longer than 00:00.00. \n",
    "We say that the _base/terminating case_ occurs when the video is exactly 00:00.00."
   ]
  },
  {
   "cell_type": "markdown",
   "metadata": {
    "colab_type": "text",
    "id": "5KLLkK4hrTVL"
   },
   "source": [
    "> *** Make sure that you understand functions and loops before attempting to work through the code section of this tutorial***\n",
    "<br/>"
   ]
  },
  {
   "cell_type": "markdown",
   "metadata": {
    "colab_type": "text",
    "id": "5KLLkK4hrTVL"
   },
   "source": [
    "The following code is taken from  Beau Carnes' [Recursion primer](https://medium.freecodecamp.org/how-recursion-works-explained-with-flowcharts-and-a-video-de61f40cb7f9). If you have not yet done so, please read it."
   ]
  },
  {
   "cell_type": "markdown",
   "metadata": {
    "colab_type": "text",
    "id": "5KLLkK4hrTVL"
   },
   "source": [
    "This countdown function is similar to video example above. It demonstrates what may happen without a base case. Run the code, and wait for it to terminate. Read the error message for interest sake."
   ]
  },
  {
   "cell_type": "code",
   "execution_count": null,
   "metadata": {
    "colab_type": "text",
    "id": "5KLLkK4hrTVL"
   },
   "outputs": [],
   "source": [
    "def countdown(i):\n",
    "    print(i)\n",
    "    countdown(i - 1)\n",
    "    \n",
    "countdown(5)"
   ]
  },
  {
   "cell_type": "markdown",
   "metadata": {
    "colab_type": "text",
    "id": "5KLLkK4hrTVL"
   },
   "source": [
    "We avoid this infinite recursions if we add the base/terminating case when the counter is `0`"
   ]
  },
  {
   "cell_type": "code",
   "execution_count": 11,
   "metadata": {
    "colab_type": "text",
    "id": "5KLLkK4hrTVL"
   },
   "outputs": [
    {
     "name": "stdout",
     "output_type": "stream",
     "text": [
      "5\n",
      "4\n",
      "3\n",
      "2\n",
      "1\n",
      "\u0007\n"
     ]
    }
   ],
   "source": [
    "def countdown(i):\n",
    "    if i == 0:\n",
    "        print('\\a')\n",
    "    else:\n",
    "        print(i)\n",
    "        countdown(i - 1)\n",
    "\n",
    "countdown(5)"
   ]
  },
  {
   "cell_type": "markdown",
   "metadata": {
    "colab_type": "text",
    "id": "mpIJF02HbbX-"
   },
   "source": [
    "## Factorial\n",
    "\n",
    "$n$ $factorial$   (written as **$n!$**) is the number we get when we multiply every number from $1$ to $n$."
   ]
  },
  {
   "cell_type": "markdown",
   "metadata": {
    "colab_type": "text",
    "id": "8qzVjIG--9v1"
   },
   "source": [
    "For example:\n",
    "\n",
    "$4! = 4 \\times 3 \\times 2 \\times 1 = 24$. <br>\n",
    "\n",
    "$10! = 10 \\times 9 \\times 8 \\times 7 \\times 6 \\times 5 \\times 4 \\times 3 \\times 2 \\times 1 = 3628800$."
   ]
  },
  {
   "cell_type": "markdown",
   "metadata": {
    "colab_type": "text",
    "id": "H2m3mh87_oh1"
   },
   "source": [
    "Factorials are difficult to calculate for larger numbers.  \n",
    "\n",
    "How can we write a function `factorial(n)` that takes a number `n` and spits out $n factorial$?"
   ]
  },
  {
   "cell_type": "markdown",
   "metadata": {
    "colab_type": "text",
    "id": "xuVddRbmFnW-"
   },
   "source": [
    "***\n",
    "To find out why, Let's look at some smaller numbers\n",
    "\n",
    "$1! = 1$\n",
    "<br/>\n",
    "$2! = 2 * 1 = 2$\n",
    "<br/>\n",
    "$3! = 3 * 2 * 1 = 6$\n",
    "<br/>\n",
    "$4! = 4 * 3 * 2 * 1 = 24$\n",
    "<br/>\n",
    "$5!  = 5 * 4 * 3 * 2 * 1 = 120$\n",
    "<br/>\n",
    "\n",
    "We're looking for something called the recursive pattern. Let's mirror the equations to help us see the pattern.\n",
    "\n",
    "$1! = 1$\n",
    "<br/>\n",
    "$2! = 1 * 2$\n",
    "<br/>\n",
    "$3! = 1 * 2 * 3$\n",
    "<br/>\n",
    "$4! = 1 * 2 * 3 * 4$\n",
    "<br/>\n",
    "$5! = 1 * 2 * 3 * 4 * 5$\n",
    "<br/>\n",
    "\n",
    "We could re-write this as\n",
    "\n",
    "$1! = 1$\n",
    "<br/>\n",
    "$2! = 1! * 2$\n",
    "<br/>\n",
    "$3! = 2! * 3$\n",
    "<br/>\n",
    "$4! = 3! * 4$\n",
    "<br/>\n",
    "$5! = 4! * 5$\n",
    "<br/>"
   ]
  },
  {
   "cell_type": "markdown",
   "metadata": {
    "colab_type": "text",
    "id": "xuVddRbmFnW-"
   },
   "source": [
    "**Mathematically**\n",
    "\n",
    "$n! = n \\times (n - 1) \\times (n - 2) \\times \\dots \\times 2 \\times 1$\n",
    "\n",
    "Also notice that:\n",
    "$(n-1)! = (n - 1) \\times (n - 2) \\times (n - 3) \\times \\dots \\times 2 \\times 1$\n",
    "\n",
    "Hence:\n",
    "$n! = n \\times (n - 1)!$\n",
    "\n",
    "***\n",
    "\n",
    "The Base case is vitally important to a recursive function; without it the process might never end. For `factorial(n)`, the function would continuew to call itself with negative numbers and never return a value to the original call. Here, the Base Case is when $n = 1$ or $n! = n$.\n",
    "\n",
    "The Recursive Case is $n! = n \\times (n - 1)!$\n",
    "\n",
    "In a recursive Python function, this would look like:"
   ]
  },
  {
   "cell_type": "code",
   "execution_count": 12,
   "metadata": {
    "colab": {
     "autoexec": {
      "startup": false,
      "wait_interval": 0
     }
    },
    "colab_type": "code",
    "id": "ISiutp6NciW9"
   },
   "outputs": [],
   "source": [
    "def factorial(n):\n",
    "    if n == 1:\n",
    "        return n\n",
    "    else:\n",
    "        return n * factorial(n-1)  # <<-- Notice how the function does factorial(n-1) within factorial(n)!"
   ]
  },
  {
   "cell_type": "code",
   "execution_count": 13,
   "metadata": {
    "colab": {
     "autoexec": {
      "startup": false,
      "wait_interval": 0
     },
     "base_uri": "https://localhost:8080/",
     "height": 34,
     "output_extras": [
      {
       "item_id": 1
      }
     ]
    },
    "colab_type": "code",
    "executionInfo": {
     "elapsed": 966,
     "status": "ok",
     "timestamp": 1520522530829,
     "user": {
      "displayName": "Rayno Mostert",
      "photoUrl": "https://lh3.googleusercontent.com/a/default-user=s128",
      "userId": "107056986412592388577"
     },
     "user_tz": -120
    },
    "id": "nibQot8nMwK9",
    "outputId": "c560f7ee-99f3-4c3f-bb0d-6f64f691fb31"
   },
   "outputs": [
    {
     "data": {
      "text/plain": [
       "120"
      ]
     },
     "execution_count": 13,
     "metadata": {},
     "output_type": "execute_result"
    }
   ],
   "source": [
    "factorial(5)"
   ]
  },
  {
   "cell_type": "markdown",
   "metadata": {
    "colab_type": "text",
    "id": "I_DI1u4fcoc4"
   },
   "source": [
    "Notice what the function is doing. It essentially runs a version of itself - `factorial(n-1)` right within itself (`factorial(n)`).\n",
    "\n",
    "Mind. Blown."
   ]
  },
  {
   "cell_type": "markdown",
   "metadata": {
    "colab_type": "text",
    "id": "faQ9P8YfL3eW"
   },
   "source": [
    "For each function call, the `return` statements must resolve entirely before it completes. Let's write a recursive function that just prints some stuff to see how Python manages memory."
   ]
  },
  {
   "cell_type": "code",
   "execution_count": 14,
   "metadata": {
    "colab_type": "text",
    "id": "faQ9P8YfL3eW"
   },
   "outputs": [],
   "source": [
    "def factorial(n):\n",
    "    if n == 1:\n",
    "        return n\n",
    "    else:\n",
    "        print(\"n = \", n, \"; now calling factorial(n-1)\", sep = \"\")\n",
    "        lower_fact = factorial(n-1)\n",
    "        current_fact = n * lower_fact \n",
    "        print(\"n = \",n, \"; factorial(n-1) returned \", lower_fact,\"; multiplied by n to get \", current_fact, sep = \"\") \n",
    "        return  current_fact"
   ]
  },
  {
   "cell_type": "code",
   "execution_count": 16,
   "metadata": {
    "colab_type": "text",
    "id": "faQ9P8YfL3eW"
   },
   "outputs": [
    {
     "name": "stdout",
     "output_type": "stream",
     "text": [
      "n = 5; now calling factorial(n-1)\n",
      "n = 4; now calling factorial(n-1)\n",
      "n = 3; now calling factorial(n-1)\n",
      "n = 2; now calling factorial(n-1)\n",
      "n = 2; factorial(n-1) returned 1; multiplied by n to get 2\n",
      "n = 3; factorial(n-1) returned 2; multiplied by n to get 6\n",
      "n = 4; factorial(n-1) returned 6; multiplied by n to get 24\n",
      "n = 5; factorial(n-1) returned 24; multiplied by n to get 120\n"
     ]
    },
    {
     "data": {
      "text/plain": [
       "120"
      ]
     },
     "execution_count": 16,
     "metadata": {},
     "output_type": "execute_result"
    }
   ],
   "source": [
    "factorial(5) "
   ]
  },
  {
   "cell_type": "markdown",
   "metadata": {
    "colab_type": "text",
    "id": "faQ9P8YfL3eW"
   },
   "source": [
    "Remember, recursion is not like loops. The interpretor does not move beyond line 6 until after it meets the base case and one of the function calls actually completes (returns something). Please review Beau Carnes' description of this call stack in his [Recursion primer](https://medium.freecodecamp.org/how-recursion-works-explained-with-flowcharts-and-a-video-de61f40cb7f9)"
   ]
  },
  {
   "cell_type": "markdown",
   "metadata": {
    "colab_type": "text",
    "id": "faQ9P8YfL3eW"
   },
   "source": [
    "## Why Recursion?"
   ]
  },
  {
   "cell_type": "markdown",
   "metadata": {
    "colab_type": "text",
    "id": "sxoa4ltbAHZQ"
   },
   "source": [
    "It is possible to write an iterative version of any recursive algorithm. For example, we could use a while loop to calculate factorials:"
   ]
  },
  {
   "cell_type": "code",
   "execution_count": 17,
   "metadata": {
    "colab": {
     "autoexec": {
      "startup": false,
      "wait_interval": 0
     }
    },
    "colab_type": "code",
    "id": "0vM1qcBOAGPA"
   },
   "outputs": [],
   "source": [
    "def factorial(n):\n",
    "    result = 1\n",
    "    count = 2\n",
    "  \n",
    "    while count <= n:\n",
    "        result = result * count\n",
    "        count = count + 1\n",
    "    \n",
    "    return result"
   ]
  },
  {
   "cell_type": "code",
   "execution_count": 18,
   "metadata": {
    "colab": {
     "autoexec": {
      "startup": false,
      "wait_interval": 0
     },
     "base_uri": "https://localhost:8080/",
     "height": 34,
     "output_extras": [
      {
       "item_id": 1
      }
     ]
    },
    "colab_type": "code",
    "executionInfo": {
     "elapsed": 761,
     "status": "ok",
     "timestamp": 1520520530057,
     "user": {
      "displayName": "Rayno Mostert",
      "photoUrl": "https://lh3.googleusercontent.com/a/default-user=s128",
      "userId": "107056986412592388577"
     },
     "user_tz": -120
    },
    "id": "y6pkKW6XAnj3",
    "outputId": "334a7fc4-650e-495e-8f53-db3f92555ec0"
   },
   "outputs": [
    {
     "data": {
      "text/plain": [
       "24"
      ]
     },
     "execution_count": 18,
     "metadata": {},
     "output_type": "execute_result"
    }
   ],
   "source": [
    "factorial(4)"
   ]
  },
  {
   "cell_type": "code",
   "execution_count": 19,
   "metadata": {
    "colab": {
     "autoexec": {
      "startup": false,
      "wait_interval": 0
     },
     "base_uri": "https://localhost:8080/",
     "height": 34,
     "output_extras": [
      {
       "item_id": 1
      }
     ]
    },
    "colab_type": "code",
    "executionInfo": {
     "elapsed": 961,
     "status": "ok",
     "timestamp": 1520520532855,
     "user": {
      "displayName": "Rayno Mostert",
      "photoUrl": "https://lh3.googleusercontent.com/a/default-user=s128",
      "userId": "107056986412592388577"
     },
     "user_tz": -120
    },
    "id": "VKg4TVVt_hN9",
    "outputId": "7536772a-f79c-498f-c0dd-ac0532ed173e"
   },
   "outputs": [
    {
     "data": {
      "text/plain": [
       "3628800"
      ]
     },
     "execution_count": 19,
     "metadata": {},
     "output_type": "execute_result"
    }
   ],
   "source": [
    "factorial(10)"
   ]
  },
  {
   "cell_type": "markdown",
   "metadata": {
    "colab_type": "text",
    "id": "xuVddRbmFnW-"
   },
   "source": [
    "This solution is short and relatively simple. How do they compare?\n",
    "\n",
    "* The iterative solution uses _one_ loop, _three_ variables and _three_ distinct calcutaions. \n",
    "* The recursive solution uses _zero_ loops, _one_ variable, and _two_ Calculations. \n",
    "\n",
    "As the calculations become more complicated, iterative solutions grow in complexity. Let's look at _Merge Sort_ again."
   ]
  },
  {
   "cell_type": "markdown",
   "metadata": {
    "colab_type": "text",
    "id": "xuVddRbmFnW-"
   },
   "source": [
    "### Recursive Merge Sort"
   ]
  },
  {
   "cell_type": "code",
   "execution_count": 20,
   "metadata": {
    "colab_type": "text",
    "id": "xuVddRbmFnW-"
   },
   "outputs": [],
   "source": [
    "# Merge sort returns a sorted list.\n",
    "def merge_sort(items):\n",
    "\n",
    "    len_i = len(items)\n",
    "    # Base case. A list of size 1 is sorted.\n",
    "    # Cae returns, so if reached then function will terminate after line 8\n",
    "    if len_i == 1:\n",
    "        return items\n",
    "    # Recursive case. Find midpoint of list\n",
    "    mid_point = int(len_i / 2)\n",
    "    # divide list into two halves\n",
    "    i1 = merge_sort(items[:mid_point])\n",
    "    i2 = merge_sort(items[mid_point:])\n",
    "    # call merge_sort function on each half of list \n",
    "    return merge(i1, i2)\n",
    "\n",
    "# Merge function.\n",
    "def merge(A, B):\n",
    "    new_list = []\n",
    "    while len(A) > 0 and len(B) > 0:\n",
    "        if A[0] < B[0]:\n",
    "            new_list.append(A[0])\n",
    "            A.pop(0)\n",
    "        else:\n",
    "            new_list.append(B[0])\n",
    "            B.pop(0)\n",
    "\n",
    "    if len(A) == 0:\n",
    "        new_list = new_list + B\n",
    "    if len(B) == 0:\n",
    "        new_list = new_list + A\n",
    "\n",
    "    return new_list"
   ]
  },
  {
   "cell_type": "markdown",
   "metadata": {
    "colab_type": "text",
    "id": "xuVddRbmFnW-"
   },
   "source": [
    "### Iterative Merge Sort"
   ]
  },
  {
   "cell_type": "code",
   "execution_count": 21,
   "metadata": {
    "colab_type": "text",
    "id": "xuVddRbmFnW-"
   },
   "outputs": [],
   "source": [
    "# An iterative implementation of Merge sort by Madhur Chhangani, found on https://www.geeksforgeeks.org/iterative-merge-sort/\n",
    "def mergeSort(a): \n",
    "      \n",
    "    current_size = 1\n",
    "      \n",
    "    # Outer loop for traversing Each  \n",
    "    # sub list of current_size \n",
    "    while current_size < len(a) - 1: \n",
    "          \n",
    "        left = 0\n",
    "        # Inner loop for merge call  \n",
    "        # in a sub list \n",
    "        # Each complete Iteration sorts \n",
    "        # the iterating sub list \n",
    "        while left < len(a)-1: \n",
    "              \n",
    "            # mid index = left index of  \n",
    "            # sub list + current sub  \n",
    "            # list size - 1 \n",
    "            mid = left + current_size - 1\n",
    "              \n",
    "            # (False result,True result) \n",
    "            # [Condition] Can use current_size \n",
    "            # if 2 * current_size < len(a)-1 \n",
    "            # else len(a)-1 \n",
    "            right = ((2 * current_size + left - 1, \n",
    "                    len(a) - 1)[2 * current_size  \n",
    "                          + left - 1 > len(a)-1]) \n",
    "                            \n",
    "            # Merge call for each sub list \n",
    "            merge(a, left, mid, right) \n",
    "            left = left + current_size*2\n",
    "              \n",
    "        # Increasing sub list size by \n",
    "        # multiple of 2 \n",
    "        current_size = 2 * current_size \n",
    "\n",
    "        \n",
    "# Merge function        \n",
    "def merge(a, l, m, r): \n",
    "    n1 = m - l + 1\n",
    "    n2 = r - m \n",
    "    L = [0] * n1 \n",
    "    R = [0] * n2 \n",
    "    for i in range(0, n1): \n",
    "        L[i] = a[l + i] \n",
    "    for i in range(0, n2): \n",
    "        R[i] = a[m + i + 1] \n",
    "  \n",
    "    i, j, k = 0, 0, l \n",
    "    while i < n1 and j < n2: \n",
    "        if L[i] > R[j]: \n",
    "            a[k] = R[j] \n",
    "            j += 1\n",
    "        else: \n",
    "            a[k] = L[i] \n",
    "            i += 1\n",
    "        k += 1\n",
    "  \n",
    "    while i < n1: \n",
    "        a[k] = L[i] \n",
    "        i += 1\n",
    "        k += 1\n",
    "  \n",
    "    while j < n2: \n",
    "        a[k] = R[j] \n",
    "        j += 1\n",
    "        k += 1"
   ]
  },
  {
   "cell_type": "markdown",
   "metadata": {
    "colab_type": "text",
    "id": "xuVddRbmFnW-"
   },
   "source": [
    "The iterative implementation is significantly more complicated because you have to mess around with sub-lists and a number of different loops to handle the merge for each iteration. The recursive implementation is decidedly lighter.\n",
    "\n",
    "Two things stand out. \n",
    "1. The iterative implmentation requires a nested while loop; recursive implementation requires none.\n",
    "2. The recursive's `merge` function uses only one loop, and requires only two parameters."
   ]
  },
  {
   "cell_type": "markdown",
   "metadata": {
    "colab_type": "text",
    "id": "xuVddRbmFnW-"
   },
   "source": [
    "Ultimately, both algorithms are _O(nlogn)_; computers do not care much about which one you pick. \n",
    "But recursive implementations are often easier to write and read. "
   ]
  },
  {
   "cell_type": "markdown",
   "metadata": {
    "colab_type": "text",
    "id": "faQ9P8YfL3eW"
   },
   "source": [
    "## Further reading\n",
    "[Recursion visualization with turtles](http://interactivepython.org/runestone/static/thinkcspy/Recursion/intro-VisualizingRecursion.html)\n",
    "\n",
    "[Recursion Made Simple](https://medium.com/code-zen/recursion-demystified-24867f045c62)\n",
    "\n",
    "[Explain Recursion to me Like I Am A Five Year Old](https://www.reddit.com/r/learnprogramming/comments/5w50g5/eli5_what_is_recursion/) - This contains some more recursion humour... Brace yourselves"
   ]
  },
  {
   "cell_type": "markdown",
   "metadata": {
    "colab_type": "text",
    "id": "oiOoE0DjQVlz"
   },
   "source": [
    "# Exercises\n",
    "\n",
    "Convert the following function into a recursive function: $f(n) = a^n$\n",
    "\n",
    "Tip: $ a^n = a \\times a \\times a \\times \\dots \\times a $   ($n$ times)\n",
    "\n",
    "**IMPORTANT:** Your function MUST BE RECURSIVE.  That is, your function must call itself in order to calculate the exponent.  YOU ARE NOT ALLOWED TO USE `a**n` - that's cheating."
   ]
  },
  {
   "cell_type": "code",
   "execution_count": null,
   "metadata": {
    "colab": {
     "autoexec": {
      "startup": false,
      "wait_interval": 0
     }
    },
    "colab_type": "code",
    "id": "Ja-yvj97coO2"
   },
   "outputs": [],
   "source": [
    "def exponential(a, n):\n",
    "  # YOUR CODE HERE"
   ]
  },
  {
   "cell_type": "markdown",
   "metadata": {
    "colab": {
     "autoexec": {
      "startup": false,
      "wait_interval": 0
     }
    },
    "colab_type": "code",
    "id": "Ja-yvj97coO2"
   },
   "source": [
    "Using recursion, generate the $n$th number in the [fibonacci sequence](https://www.mathsisfun.com/numbers/fibonacci-sequence.html).\n",
    "\n",
    "Tip: $fibonacci(7) = 13$\n",
    "\n",
    "\n",
    "**IMPORTANT:** Your function MUST BE RECURSIVE."
   ]
  },
  {
   "cell_type": "code",
   "execution_count": null,
   "metadata": {},
   "outputs": [],
   "source": [
    "def fibonacci(n):\n",
    "  # YOUR CODE HERE"
   ]
  },
  {
   "cell_type": "markdown",
   "metadata": {},
   "source": [
    "Using recursion, calculate the cumulative sum all positive integers up to $n$.\n",
    "\n",
    "Tip: $cumulate(7) = 1 + 2 + 3 + 4 + 5 + 6 + 7 = 28$\n",
    "\n",
    "$cumulate(3) = 1 + 2 + 3 = 6$\n",
    "\n",
    "$cumulate(1) = 1$\n",
    "\n",
    "\n",
    "**IMPORTANT:** Your function MUST BE RECURSIVE."
   ]
  },
  {
   "cell_type": "code",
   "execution_count": null,
   "metadata": {},
   "outputs": [],
   "source": [
    "def cumulate(n):\n",
    "  # YOUR CODE HERE"
   ]
  }
 ],
 "metadata": {
  "colab": {
   "collapsed_sections": [],
   "default_view": {},
   "name": "9 Recursion.ipynb",
   "provenance": [],
   "version": "0.3.2",
   "views": {}
  },
  "kernelspec": {
   "display_name": "Python 3",
   "language": "python",
   "name": "python3"
  },
  "language_info": {
   "codemirror_mode": {
    "name": "ipython",
    "version": 3
   },
   "file_extension": ".py",
   "mimetype": "text/x-python",
   "name": "python",
   "nbconvert_exporter": "python",
   "pygments_lexer": "ipython3",
   "version": "3.7.1"
  },
  "toc": {
   "base_numbering": 1,
   "nav_menu": {},
   "number_sections": true,
   "sideBar": true,
   "skip_h1_title": false,
   "title_cell": "Table of Contents",
   "title_sidebar": "Contents",
   "toc_cell": false,
   "toc_position": {
    "height": "calc(100% - 180px)",
    "left": "10px",
    "top": "150px",
    "width": "384px"
   },
   "toc_section_display": true,
   "toc_window_display": true
  }
 },
 "nbformat": 4,
 "nbformat_minor": 2
}
