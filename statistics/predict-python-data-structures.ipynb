{
 "cells": [
  {
   "cell_type": "markdown",
   "metadata": {},
   "source": [
    "# Predict - Python Data Structures"
   ]
  },
  {
   "cell_type": "markdown",
   "metadata": {},
   "source": [
    "This is the project on Python Data Structures. We will start by transforming the raw data for you. You then need to create 9 functions as specified in the project instructions.\n",
    "\n",
    "NB: Make sure the football_players.csv file is in the same directory as this notebook\n",
    "\n",
    "**PROJECT RULES**:\n",
    "\n",
    "* You may not import any external packages (except for pandas) - all of the functions need to be solved WITHOUT THE USE OF ANY OTHER EXTERNAL MODULES.\n",
    "* Most importantly: your functions need to return the answer (not just print it out).\n",
    "* Do not add or remove any cells from this notebook. Use another notebook to experiment in (or in which to do your workings), but your submission may not have any additional cells or functions.\n",
    "* Only fill in code where the #YOUR CODE tags appear. No code outside these areas (or outside the given functions) will be marked."
   ]
  },
  {
   "cell_type": "markdown",
   "metadata": {},
   "source": [
    "## Transform Data"
   ]
  },
  {
   "cell_type": "markdown",
   "metadata": {},
   "source": [
    "### Import Data"
   ]
  },
  {
   "cell_type": "code",
   "execution_count": 1,
   "metadata": {},
   "outputs": [],
   "source": [
    "import pandas as pd\n",
    "\n",
    "# Load data - pass 'Name' as our index column\n",
    "load_df = pd.read_csv('football_players-a-26.csv', index_col='Name', low_memory=False).sample(frac=1)\n",
    "\n",
    "# Create dataframe called df\n",
    "df = pd.DataFrame(load_df)"
   ]
  },
  {
   "cell_type": "code",
   "execution_count": 2,
   "metadata": {},
   "outputs": [
    {
     "data": {
      "text/html": [
       "<div>\n",
       "<style scoped>\n",
       "    .dataframe tbody tr th:only-of-type {\n",
       "        vertical-align: middle;\n",
       "    }\n",
       "\n",
       "    .dataframe tbody tr th {\n",
       "        vertical-align: top;\n",
       "    }\n",
       "\n",
       "    .dataframe thead th {\n",
       "        text-align: right;\n",
       "    }\n",
       "</style>\n",
       "<table border=\"1\" class=\"dataframe\">\n",
       "  <thead>\n",
       "    <tr style=\"text-align: right;\">\n",
       "      <th></th>\n",
       "      <th>Age</th>\n",
       "      <th>Nationality</th>\n",
       "      <th>Overall</th>\n",
       "      <th>Acceleration</th>\n",
       "      <th>Aggression</th>\n",
       "      <th>Agility</th>\n",
       "      <th>Balance</th>\n",
       "      <th>Ball control</th>\n",
       "      <th>Composure</th>\n",
       "      <th>Crossing</th>\n",
       "      <th>...</th>\n",
       "      <th>Short passing</th>\n",
       "      <th>Shot power</th>\n",
       "      <th>Sliding tackle</th>\n",
       "      <th>Sprint speed</th>\n",
       "      <th>Stamina</th>\n",
       "      <th>Standing tackle</th>\n",
       "      <th>Strength</th>\n",
       "      <th>Vision</th>\n",
       "      <th>Volleys</th>\n",
       "      <th>Preferred Positions</th>\n",
       "    </tr>\n",
       "    <tr>\n",
       "      <th>Name</th>\n",
       "      <th></th>\n",
       "      <th></th>\n",
       "      <th></th>\n",
       "      <th></th>\n",
       "      <th></th>\n",
       "      <th></th>\n",
       "      <th></th>\n",
       "      <th></th>\n",
       "      <th></th>\n",
       "      <th></th>\n",
       "      <th></th>\n",
       "      <th></th>\n",
       "      <th></th>\n",
       "      <th></th>\n",
       "      <th></th>\n",
       "      <th></th>\n",
       "      <th></th>\n",
       "      <th></th>\n",
       "      <th></th>\n",
       "      <th></th>\n",
       "      <th></th>\n",
       "    </tr>\n",
       "  </thead>\n",
       "  <tbody>\n",
       "    <tr>\n",
       "      <th>P. Gerkens</th>\n",
       "      <td>22</td>\n",
       "      <td>Belgium</td>\n",
       "      <td>71</td>\n",
       "      <td>52</td>\n",
       "      <td>58</td>\n",
       "      <td>67</td>\n",
       "      <td>72</td>\n",
       "      <td>68</td>\n",
       "      <td>66</td>\n",
       "      <td>70</td>\n",
       "      <td>...</td>\n",
       "      <td>71</td>\n",
       "      <td>70</td>\n",
       "      <td>63</td>\n",
       "      <td>57</td>\n",
       "      <td>77</td>\n",
       "      <td>66</td>\n",
       "      <td>57</td>\n",
       "      <td>70</td>\n",
       "      <td>64</td>\n",
       "      <td>CDM CM</td>\n",
       "    </tr>\n",
       "    <tr>\n",
       "      <th>J. Saunders</th>\n",
       "      <td>36</td>\n",
       "      <td>Puerto Rico</td>\n",
       "      <td>66</td>\n",
       "      <td>53</td>\n",
       "      <td>41</td>\n",
       "      <td>34</td>\n",
       "      <td>46</td>\n",
       "      <td>15</td>\n",
       "      <td>53</td>\n",
       "      <td>13</td>\n",
       "      <td>...</td>\n",
       "      <td>33</td>\n",
       "      <td>23</td>\n",
       "      <td>17</td>\n",
       "      <td>51</td>\n",
       "      <td>39</td>\n",
       "      <td>10</td>\n",
       "      <td>65</td>\n",
       "      <td>10</td>\n",
       "      <td>14</td>\n",
       "      <td>GK</td>\n",
       "    </tr>\n",
       "    <tr>\n",
       "      <th>J. Pupe</th>\n",
       "      <td>20</td>\n",
       "      <td>Belgium</td>\n",
       "      <td>58</td>\n",
       "      <td>63</td>\n",
       "      <td>43</td>\n",
       "      <td>46</td>\n",
       "      <td>50</td>\n",
       "      <td>49</td>\n",
       "      <td>49</td>\n",
       "      <td>23</td>\n",
       "      <td>...</td>\n",
       "      <td>48</td>\n",
       "      <td>41</td>\n",
       "      <td>51</td>\n",
       "      <td>55</td>\n",
       "      <td>51</td>\n",
       "      <td>64</td>\n",
       "      <td>65</td>\n",
       "      <td>33</td>\n",
       "      <td>24</td>\n",
       "      <td>CB</td>\n",
       "    </tr>\n",
       "    <tr>\n",
       "      <th>M. Camporese</th>\n",
       "      <td>25</td>\n",
       "      <td>Italy</td>\n",
       "      <td>69</td>\n",
       "      <td>65</td>\n",
       "      <td>67</td>\n",
       "      <td>66</td>\n",
       "      <td>61</td>\n",
       "      <td>53</td>\n",
       "      <td>67</td>\n",
       "      <td>14</td>\n",
       "      <td>...</td>\n",
       "      <td>53</td>\n",
       "      <td>49</td>\n",
       "      <td>71</td>\n",
       "      <td>67</td>\n",
       "      <td>65</td>\n",
       "      <td>73</td>\n",
       "      <td>67</td>\n",
       "      <td>23</td>\n",
       "      <td>11</td>\n",
       "      <td>CB</td>\n",
       "    </tr>\n",
       "    <tr>\n",
       "      <th>J. Allen</th>\n",
       "      <td>22</td>\n",
       "      <td>United States</td>\n",
       "      <td>61</td>\n",
       "      <td>64</td>\n",
       "      <td>70</td>\n",
       "      <td>77</td>\n",
       "      <td>70</td>\n",
       "      <td>64</td>\n",
       "      <td>57</td>\n",
       "      <td>49</td>\n",
       "      <td>...</td>\n",
       "      <td>62</td>\n",
       "      <td>54</td>\n",
       "      <td>59</td>\n",
       "      <td>75</td>\n",
       "      <td>61</td>\n",
       "      <td>59</td>\n",
       "      <td>60</td>\n",
       "      <td>58</td>\n",
       "      <td>39</td>\n",
       "      <td>CM CAM LW</td>\n",
       "    </tr>\n",
       "  </tbody>\n",
       "</table>\n",
       "<p>5 rows × 38 columns</p>\n",
       "</div>"
      ],
      "text/plain": [
       "              Age    Nationality  Overall Acceleration Aggression Agility  \\\n",
       "Name                                                                        \n",
       "P. Gerkens     22        Belgium       71       52         58      67       \n",
       "J. Saunders    36    Puerto Rico       66       53         41      34       \n",
       "J. Pupe        20        Belgium       58       63         43      46       \n",
       "M. Camporese   25          Italy       69       65         67      66       \n",
       "J. Allen       22  United States       61       64         70      77       \n",
       "\n",
       "             Balance Ball control Composure Crossing  ... Short passing  \\\n",
       "Name                                                  ...                 \n",
       "P. Gerkens    72           68        66       70      ...        71       \n",
       "J. Saunders   46           15        53       13      ...        33       \n",
       "J. Pupe       50           49        49       23      ...        48       \n",
       "M. Camporese  61           53        67       14      ...        53       \n",
       "J. Allen      70           64        57       49      ...        62       \n",
       "\n",
       "             Shot power Sliding tackle Sprint speed Stamina Standing tackle  \\\n",
       "Name                                                                          \n",
       "P. Gerkens       70             63           57      77              66       \n",
       "J. Saunders      23             17           51      39              10       \n",
       "J. Pupe          41             51           55      51              64       \n",
       "M. Camporese     49             71           67      65              73       \n",
       "J. Allen         54             59           75      61              59       \n",
       "\n",
       "             Strength  Vision Volleys Preferred Positions  \n",
       "Name                                                       \n",
       "P. Gerkens     57      70      64                 CDM CM   \n",
       "J. Saunders    65      10      14                     GK   \n",
       "J. Pupe        65      33      24                     CB   \n",
       "M. Camporese   67      23      11                     CB   \n",
       "J. Allen       60      58      39              CM CAM LW   \n",
       "\n",
       "[5 rows x 38 columns]"
      ]
     },
     "execution_count": 2,
     "metadata": {},
     "output_type": "execute_result"
    }
   ],
   "source": [
    "df.head()"
   ]
  },
  {
   "cell_type": "markdown",
   "metadata": {},
   "source": [
    "### Create Position Type Column"
   ]
  },
  {
   "cell_type": "code",
   "execution_count": 3,
   "metadata": {},
   "outputs": [],
   "source": [
    "def position_type(s):\n",
    "    \n",
    "    \"\"\"This function converts the individual positions (abbreviations) and classfies it\n",
    "    as either a forward, midfielder, back or goal keeper\"\"\"\n",
    "    \n",
    "    if (s[-2] == 'T') | (s[-2] == 'W'):\n",
    "        return 'Forward'\n",
    "    elif s[-2] == 'M':\n",
    "        return 'Midfielder'\n",
    "    elif s[-2] == 'B':\n",
    "        return 'Back'\n",
    "    else:\n",
    "        return 'GoalKeeper'\n",
    "\n",
    "# Create position type column\n",
    "df['Preferred Positions Type'] = df['Preferred Positions'].apply(position_type)"
   ]
  },
  {
   "cell_type": "markdown",
   "metadata": {},
   "source": [
    "### Transform Attribute Columns to Floats"
   ]
  },
  {
   "cell_type": "code",
   "execution_count": 4,
   "metadata": {},
   "outputs": [],
   "source": [
    "# Select all attribute columns\n",
    "cols = ['Overall', 'Acceleration', 'Aggression',\n",
    "       'Agility', 'Balance', 'Ball control', 'Composure', 'Crossing', 'Curve',\n",
    "       'Dribbling', 'Finishing', 'Free kick accuracy', 'GK diving',\n",
    "       'GK handling', 'GK kicking', 'GK positioning', 'GK reflexes',\n",
    "       'Heading accuracy', 'Interceptions', 'Jumping', 'Long passing',\n",
    "       'Long shots', 'Marking', 'Penalties', 'Positioning', 'Reactions',\n",
    "       'Short passing', 'Shot power', 'Sliding tackle', 'Sprint speed',\n",
    "       'Stamina', 'Standing tackle', 'Strength', 'Vision', 'Volleys']\n",
    "\n",
    "def to_float(x):    \n",
    "    \"Transforms attribute columns to type float\"\n",
    "    \n",
    "    if type(x) is int:\n",
    "        return float(x)\n",
    "    else:\n",
    "        return float(x[0:2])\n",
    "\n",
    "df[cols] = df[cols].applymap(to_float)"
   ]
  },
  {
   "cell_type": "code",
   "execution_count": 5,
   "metadata": {},
   "outputs": [
    {
     "name": "stdout",
     "output_type": "stream",
     "text": [
      "<class 'pandas.core.frame.DataFrame'>\n",
      "Index: 17981 entries, P. Gerkens to Silvosinho\n",
      "Data columns (total 39 columns):\n",
      "Age                         17981 non-null int64\n",
      "Nationality                 17981 non-null object\n",
      "Overall                     17981 non-null float64\n",
      "Acceleration                17981 non-null float64\n",
      "Aggression                  17981 non-null float64\n",
      "Agility                     17981 non-null float64\n",
      "Balance                     17981 non-null float64\n",
      "Ball control                17981 non-null float64\n",
      "Composure                   17981 non-null float64\n",
      "Crossing                    17981 non-null float64\n",
      "Curve                       17981 non-null float64\n",
      "Dribbling                   17981 non-null float64\n",
      "Finishing                   17981 non-null float64\n",
      "Free kick accuracy          17981 non-null float64\n",
      "GK diving                   17981 non-null float64\n",
      "GK handling                 17981 non-null float64\n",
      "GK kicking                  17981 non-null float64\n",
      "GK positioning              17981 non-null float64\n",
      "GK reflexes                 17981 non-null float64\n",
      "Heading accuracy            17981 non-null float64\n",
      "Interceptions               17981 non-null float64\n",
      "Jumping                     17981 non-null float64\n",
      "Long passing                17981 non-null float64\n",
      "Long shots                  17981 non-null float64\n",
      "Marking                     17981 non-null float64\n",
      "Penalties                   17981 non-null float64\n",
      "Positioning                 17981 non-null float64\n",
      "Reactions                   17981 non-null float64\n",
      "Short passing               17981 non-null float64\n",
      "Shot power                  17981 non-null float64\n",
      "Sliding tackle              17981 non-null float64\n",
      "Sprint speed                17981 non-null float64\n",
      "Stamina                     17981 non-null float64\n",
      "Standing tackle             17981 non-null float64\n",
      "Strength                    17981 non-null float64\n",
      "Vision                      17981 non-null float64\n",
      "Volleys                     17981 non-null float64\n",
      "Preferred Positions         17981 non-null object\n",
      "Preferred Positions Type    17981 non-null object\n",
      "dtypes: float64(35), int64(1), object(3)\n",
      "memory usage: 5.5+ MB\n"
     ]
    }
   ],
   "source": [
    "df.info()"
   ]
  },
  {
   "cell_type": "markdown",
   "metadata": {},
   "source": [
    "## Function 1\n",
    "\n",
    "Build an algorithm that identifies the nth ranked (rank) defender in the world - sorted by 'Overall' then 'Name' (both descending order)\n",
    "* Under a certain age (max_age)"
   ]
  },
  {
   "cell_type": "code",
   "execution_count": 50,
   "metadata": {
    "deletable": false,
    "nbgrader": {
     "checksum": "fd9987117981c2666db098cae2dbb9e9",
     "grade": false,
     "grade_id": "cell-0079c74c9608a898",
     "locked": false,
     "schema_version": 1,
     "solution": true
    }
   },
   "outputs": [],
   "source": [
    "### START FUNCTION 1\n",
    "\n",
    "def best_defender_1(rank, max_age):\n",
    "    # YOUR CODE HERE\n",
    "    zb = rank-1\n",
    "    return df[(df['Preferred Positions Type'] == 'Back') & (df.Age < max_age)]\\\n",
    "        .sort_values(by=['Overall', 'Name'], ascending=False).index[zb]\n",
    "    raise NotImplementedError()\n",
    "\n",
    "### END FUNCTION 1"
   ]
  },
  {
   "cell_type": "code",
   "execution_count": 51,
   "metadata": {},
   "outputs": [
    {
     "name": "stdout",
     "output_type": "stream",
     "text": [
      "T. Alderweireld\n"
     ]
    }
   ],
   "source": [
    "print(best_defender_1(10, 35))"
   ]
  },
  {
   "cell_type": "code",
   "execution_count": 52,
   "metadata": {
    "deletable": false,
    "editable": false,
    "nbgrader": {
     "checksum": "2a35efec6d519e2e206fd32444cb8dff",
     "grade": true,
     "grade_id": "cell-b2b018f3267ac46d",
     "locked": true,
     "points": 1,
     "schema_version": 1,
     "solution": false
    }
   },
   "outputs": [
    {
     "data": {
      "text/plain": [
       "'T. Alderweireld'"
      ]
     },
     "execution_count": 52,
     "metadata": {},
     "output_type": "execute_result"
    }
   ],
   "source": [
    "best_defender_1(10, 35)"
   ]
  },
  {
   "cell_type": "markdown",
   "metadata": {},
   "source": [
    "## Function 2\n",
    "\n",
    "Build an algorithm that identifies the nth ranked (rank) defender in the world - sorted by 'Overall' then 'Name' (both descending order)\n",
    "* Under a certain age (max_age)\n",
    "* Has an aggression score below a certain level (max_aggression)\n",
    "* Has a stamina score above a certain level (min_stamina)"
   ]
  },
  {
   "cell_type": "code",
   "execution_count": 48,
   "metadata": {
    "deletable": false,
    "nbgrader": {
     "checksum": "5f2ca2117e2c70f754b66e973f7d33a2",
     "grade": false,
     "grade_id": "cell-372744b6ef038955",
     "locked": false,
     "schema_version": 1,
     "solution": true
    }
   },
   "outputs": [],
   "source": [
    "### START FUNCTION 2\n",
    "\n",
    "def best_defender_2(rank, max_age, max_aggression, min_stamina):\n",
    "    # YOUR CODE HERE\n",
    "    zb = rank-1\n",
    "    return df[(df['Preferred Positions Type'] == 'Back') & (df.Age < max_age) & (df.Aggression < max_aggression) & (df.Stamina > min_stamina)]\\\n",
    "        .sort_values(by=['Overall', 'Name'], ascending=False).index[zb]\n",
    "    raise NotImplementedError()\n",
    "\n",
    "### END FUNCTION 2"
   ]
  },
  {
   "cell_type": "code",
   "execution_count": 49,
   "metadata": {},
   "outputs": [
    {
     "data": {
      "text/plain": [
       "'K. Walker'"
      ]
     },
     "execution_count": 49,
     "metadata": {},
     "output_type": "execute_result"
    }
   ],
   "source": [
    "best_defender_2(10, 30, 80, 60)"
   ]
  },
  {
   "cell_type": "code",
   "execution_count": 53,
   "metadata": {
    "deletable": false,
    "editable": false,
    "nbgrader": {
     "checksum": "0cefd688b740afa5cc3ffe6dca4c4269",
     "grade": true,
     "grade_id": "cell-94a1063ba5a8d454",
     "locked": true,
     "points": 1,
     "schema_version": 1,
     "solution": false
    }
   },
   "outputs": [
    {
     "data": {
      "text/plain": [
       "'K. Walker'"
      ]
     },
     "execution_count": 53,
     "metadata": {},
     "output_type": "execute_result"
    }
   ],
   "source": [
    "best_defender_2(10, 30, 80, 60)"
   ]
  },
  {
   "cell_type": "markdown",
   "metadata": {},
   "source": [
    "## Function 3\n",
    "\n",
    "Build an algorithm that identifies the nth ranked (rank) defender in the world - sorted by 'Overall' then 'Name' (both descending order)\n",
    "* Under a certain age\n",
    "* Does not play for a certain team (team)"
   ]
  },
  {
   "cell_type": "code",
   "execution_count": 55,
   "metadata": {
    "deletable": false,
    "nbgrader": {
     "checksum": "82ccaa3880d17abb119c3ef995bce8bd",
     "grade": false,
     "grade_id": "cell-ace872bcbdc4e3f1",
     "locked": false,
     "schema_version": 1,
     "solution": true
    }
   },
   "outputs": [],
   "source": [
    "### START FUNCTION 3\n",
    "\n",
    "def best_defender_3(rank, max_age, team):\n",
    "    # YOUR CODE HERE\n",
    "    zb = rank-1\n",
    "    return df[(df['Preferred Positions Type'] == 'Back') & (df.Age < max_age) & (df.Nationality != team)]\\\n",
    "        .sort_values(by=['Overall', 'Name'], ascending=False).index[zb]\n",
    "    raise NotImplementedError()\n",
    "\n",
    "### END FUNCTION 3"
   ]
  },
  {
   "cell_type": "code",
   "execution_count": 56,
   "metadata": {},
   "outputs": [
    {
     "data": {
      "text/plain": [
       "'A. Rüdiger'"
      ]
     },
     "execution_count": 56,
     "metadata": {},
     "output_type": "execute_result"
    }
   ],
   "source": [
    "best_defender_3(10, 25, 'Argentina')"
   ]
  },
  {
   "cell_type": "code",
   "execution_count": 57,
   "metadata": {
    "deletable": false,
    "editable": false,
    "nbgrader": {
     "checksum": "36aa9b1efb3eb07ab50cfe3d5ec68aaf",
     "grade": true,
     "grade_id": "cell-a12647ed7ae4d4a3",
     "locked": true,
     "points": 1,
     "schema_version": 1,
     "solution": false
    }
   },
   "outputs": [
    {
     "data": {
      "text/plain": [
       "'A. Rüdiger'"
      ]
     },
     "execution_count": 57,
     "metadata": {},
     "output_type": "execute_result"
    }
   ],
   "source": [
    "best_defender_3(10, 25, 'Argentina')"
   ]
  },
  {
   "cell_type": "markdown",
   "metadata": {},
   "source": [
    "## Function 4\n",
    "\n",
    "Build an algorithm that identifies the nth ranked (rank) attacker in the world - sorted by 'Overall' then 'Name' (both descending order)\n",
    "* With specified attribute (attribute_name) above a threshold (min_attribute_score)"
   ]
  },
  {
   "cell_type": "code",
   "execution_count": 84,
   "metadata": {
    "deletable": false,
    "nbgrader": {
     "checksum": "e1920c6ce301d688350870aae0eab78e",
     "grade": false,
     "grade_id": "cell-3f1cbc25da7253f7",
     "locked": false,
     "schema_version": 1,
     "solution": true
    }
   },
   "outputs": [],
   "source": [
    "### START FUNCTION 4\n",
    "\n",
    "def best_attacker_1(rank, attribute_name, min_attribute_score):\n",
    "    # YOUR CODE HERE\n",
    "    zb = rank-1\n",
    "    return df[(df[attribute_name] > min_attribute_score) & (df['Preferred Positions Type'] == 'Forward')]\\\n",
    "        .sort_values(by=['Overall', 'Name'], ascending=False).index[zb]\n",
    "    raise NotImplementedError()\n",
    "\n",
    "### END FUNCTION 4"
   ]
  },
  {
   "cell_type": "code",
   "execution_count": 82,
   "metadata": {},
   "outputs": [
    {
     "data": {
      "text/plain": [
       "'P. Aubameyang'"
      ]
     },
     "execution_count": 82,
     "metadata": {},
     "output_type": "execute_result"
    }
   ],
   "source": [
    "best_attacker_1(10, 'Balance', 50)"
   ]
  },
  {
   "cell_type": "code",
   "execution_count": 85,
   "metadata": {
    "deletable": false,
    "editable": false,
    "nbgrader": {
     "checksum": "6e74880c2eff19174213bf06a31c90f0",
     "grade": true,
     "grade_id": "cell-37761fa0c4238b05",
     "locked": true,
     "points": 1,
     "schema_version": 1,
     "solution": false
    }
   },
   "outputs": [
    {
     "data": {
      "text/plain": [
       "'P. Aubameyang'"
      ]
     },
     "execution_count": 85,
     "metadata": {},
     "output_type": "execute_result"
    }
   ],
   "source": [
    "best_attacker_1(10, 'Balance', 50)"
   ]
  },
  {
   "cell_type": "markdown",
   "metadata": {},
   "source": [
    "## Function 5\n",
    "\n",
    "Build an algorithm that identifies the nth ranked (rank) attacker in the world - sorted by 'Overall' then 'Name' (both descending order)\n",
    "* With average of specified attributes (attribute_1_name, attribute_2_name) above a threshold (min_attributes_ave)"
   ]
  },
  {
   "cell_type": "code",
   "execution_count": 134,
   "metadata": {
    "deletable": false,
    "nbgrader": {
     "checksum": "e66ffaf662ef5d6d4047de76251eaa65",
     "grade": false,
     "grade_id": "cell-3e834f9f294659c2",
     "locked": false,
     "schema_version": 1,
     "solution": true
    }
   },
   "outputs": [],
   "source": [
    "### START FUNCTION 5\n",
    "\n",
    "def best_attacker_2(rank, attribute_1_name, attribute_2_name, min_attributes_ave):\n",
    "    # YOUR CODE HERE\n",
    "    zb = rank-1\n",
    "    df['Averaged Columns'] = (df[attribute_1_name] + df[attribute_2_name]) / 2\n",
    "    player = df[(df['Averaged Columns'] > min_attributes_ave) & (df['Preferred Positions Type'] == 'Forward')]\\\n",
    "        .sort_values(by=['Overall', 'Name'], ascending=False).index[zb]\n",
    "    df.drop('Averaged Columns', axis=1, inplace=True)\n",
    "    return player\n",
    "    raise NotImplementedError()\n",
    "### END FUNCTION 5"
   ]
  },
  {
   "cell_type": "code",
   "execution_count": 135,
   "metadata": {},
   "outputs": [
    {
     "data": {
      "text/plain": [
       "'S. Mané'"
      ]
     },
     "execution_count": 135,
     "metadata": {},
     "output_type": "execute_result"
    }
   ],
   "source": [
    "best_attacker_2(10, 'Finishing', 'Balance', 80)"
   ]
  },
  {
   "cell_type": "code",
   "execution_count": 136,
   "metadata": {
    "deletable": false,
    "editable": false,
    "nbgrader": {
     "checksum": "abf99acf7923f31b83e92e7b0c7474a5",
     "grade": true,
     "grade_id": "cell-d5f61c15d98a08b9",
     "locked": true,
     "points": 1,
     "schema_version": 1,
     "solution": false
    }
   },
   "outputs": [
    {
     "data": {
      "text/plain": [
       "'S. Mané'"
      ]
     },
     "execution_count": 136,
     "metadata": {},
     "output_type": "execute_result"
    }
   ],
   "source": [
    "best_attacker_2(10, 'Finishing', 'Balance', 80)"
   ]
  },
  {
   "cell_type": "markdown",
   "metadata": {},
   "source": [
    "## Function 6\n",
    "\n",
    "Build an algorithm that identifies the nth ranked (rank) attacker in the world - sorted by 'Overall' then 'Name' (both descending order)\n",
    "* With minimum of specified attributes (attribute_1_name, attribute_2_name) above a threshold (min_attributes_min)"
   ]
  },
  {
   "cell_type": "code",
   "execution_count": 231,
   "metadata": {
    "deletable": false,
    "nbgrader": {
     "checksum": "557a5a1f8fa96ea0da5fce808ef75b94",
     "grade": false,
     "grade_id": "cell-5c125eba5c5f4d77",
     "locked": false,
     "schema_version": 1,
     "solution": true
    }
   },
   "outputs": [],
   "source": [
    "### START FUNCTION 6\n",
    "\n",
    "def best_attacker_3(rank, attribute_1_name, attribute_2_name, min_attributes_min):\n",
    "    \n",
    "    # YOUR CODE HERE\n",
    "    zb = rank-1\n",
    "    player = df[(df[attribute_1_name] > min_attributes_min) & \n",
    "                (df[attribute_2_name] > min_attributes_min) &\n",
    "                (df['Preferred Positions Type'] == 'Forward')]\\\n",
    "        .sort_values(by=['Overall', 'Name'], ascending=False).index[zb]\n",
    "    return player\n",
    "    raise NotImplementedError()\n",
    "    \n",
    "### END FUNCTION 6"
   ]
  },
  {
   "cell_type": "code",
   "execution_count": 232,
   "metadata": {
    "deletable": false,
    "editable": false,
    "nbgrader": {
     "checksum": "43ce7a8d7615df820bbf1cf9ce46deef",
     "grade": true,
     "grade_id": "cell-021aba56f1518f05",
     "locked": true,
     "points": 1,
     "schema_version": 1,
     "solution": false
    }
   },
   "outputs": [
    {
     "data": {
      "text/plain": [
       "'A. Di María'"
      ]
     },
     "execution_count": 232,
     "metadata": {},
     "output_type": "execute_result"
    }
   ],
   "source": [
    "best_attacker_3(10, 'Balance', 'Composure', 70)"
   ]
  },
  {
   "cell_type": "code",
   "execution_count": 233,
   "metadata": {},
   "outputs": [
    {
     "data": {
      "text/plain": [
       "'A. Di María'"
      ]
     },
     "execution_count": 233,
     "metadata": {},
     "output_type": "execute_result"
    }
   ],
   "source": [
    "best_attacker_3(10, 'Balance', 'Ball control', 70)"
   ]
  },
  {
   "cell_type": "markdown",
   "metadata": {},
   "source": [
    "## Function 7\n",
    "\n",
    "Build an algorithm that identifies the best n (no_defenders) defenders - sorted by 'Overall' then 'Name' (both descending order)\n",
    "* From a certain country (country)\n",
    "* Under a certain age (max_age)\n",
    "\n",
    "Your function must return a `list` of `strings`"
   ]
  },
  {
   "cell_type": "code",
   "execution_count": 224,
   "metadata": {
    "deletable": false,
    "nbgrader": {
     "checksum": "b99d63e7f1b8ad8c921c6edf51cbd0a6",
     "grade": false,
     "grade_id": "cell-e42f9c758e90cb60",
     "locked": false,
     "schema_version": 1,
     "solution": true
    }
   },
   "outputs": [],
   "source": [
    "### START FUNCTION 7\n",
    "\n",
    "def best_team_1(country, no_defenders, max_age):\n",
    "    \n",
    "    # YOUR CODE HERE\n",
    "    return list(df[(df['Preferred Positions Type'] == 'Back') & \n",
    "                   (df.Nationality == country) & (df.Age < max_age)]\\\n",
    "        .sort_values(by=['Overall', 'Name'], ascending=False)\\\n",
    "        .index.values[0:no_defenders])\n",
    "    raise NotImplementedError()\n",
    "    \n",
    "### END FUNCTION 7"
   ]
  },
  {
   "cell_type": "code",
   "execution_count": 225,
   "metadata": {},
   "outputs": [
    {
     "data": {
      "text/plain": [
       "['K. Walker', 'N. Clyne', 'E. Dier']"
      ]
     },
     "execution_count": 225,
     "metadata": {},
     "output_type": "execute_result"
    }
   ],
   "source": [
    "best_team_1('England', 3, 30)"
   ]
  },
  {
   "cell_type": "code",
   "execution_count": 226,
   "metadata": {
    "deletable": false,
    "editable": false,
    "nbgrader": {
     "checksum": "8a91fcd51c353dc15fdd9a9f4a101ca0",
     "grade": true,
     "grade_id": "cell-989323d5bb30576d",
     "locked": true,
     "points": 1,
     "schema_version": 1,
     "solution": false
    }
   },
   "outputs": [
    {
     "data": {
      "text/plain": [
       "['K. Walker', 'N. Clyne', 'E. Dier']"
      ]
     },
     "execution_count": 226,
     "metadata": {},
     "output_type": "execute_result"
    }
   ],
   "source": [
    "best_team_1('England', 3, 30)"
   ]
  },
  {
   "cell_type": "markdown",
   "metadata": {},
   "source": [
    "## Function 8\n",
    "\n",
    "Build an algorithm that identifies the best n (no_attackers) attackers - sorted by 'Overall' then 'Name' (both descending order)\n",
    "* From a certain country (country)\n",
    "* With a specified attribute (attribute name) above a threshold (min_attribute_score)\n",
    "\n",
    "Your function must return a `list` of `strings`"
   ]
  },
  {
   "cell_type": "code",
   "execution_count": 227,
   "metadata": {
    "deletable": false,
    "nbgrader": {
     "checksum": "ae11f2d63f3bd31eaeed633be44730b1",
     "grade": false,
     "grade_id": "cell-35660435ef5cc2c1",
     "locked": false,
     "schema_version": 1,
     "solution": true
    }
   },
   "outputs": [],
   "source": [
    "### START FUNCTION 8\n",
    "\n",
    "def best_team_2(country, no_attackers, attribute_name, min_attribute_score):\n",
    "    \n",
    "    # YOUR CODE HERE\n",
    "    return list(df[(df.Nationality == country) &\n",
    "                   (df[attribute_name] > min_attribute_score) &\n",
    "                   (df['Preferred Positions Type'] == 'Forward')]\\\n",
    "        .sort_values(by=['Overall', 'Name'], ascending=False)\\\n",
    "        .index.values[0:no_attackers])\n",
    "    raise NotImplementedError()\n",
    "    \n",
    "### END FUNCTION 8"
   ]
  },
  {
   "cell_type": "code",
   "execution_count": 228,
   "metadata": {
    "deletable": false,
    "editable": false,
    "nbgrader": {
     "checksum": "639bd6d33acadce578c5085b65d0fd65",
     "grade": true,
     "grade_id": "cell-c62482d685c0c333",
     "locked": true,
     "points": 1,
     "schema_version": 1,
     "solution": false
    }
   },
   "outputs": [
    {
     "data": {
      "text/plain": [
       "['H. Kane', 'R. Sterling', 'D. Sturridge']"
      ]
     },
     "execution_count": 228,
     "metadata": {},
     "output_type": "execute_result"
    }
   ],
   "source": [
    "best_team_2('England', 3, 'Finishing', 60)"
   ]
  },
  {
   "cell_type": "markdown",
   "metadata": {},
   "source": [
    "## Function 9\n",
    "\n",
    "Build an algorithm that identifies the best team based on the team structure (no_attackers, no_defenders, no_midfielders, no_goalkeepers) - sorted by 'Overall' then 'Name' (both descending order)\n",
    "* From a certain country (country)\n",
    "\n",
    "Your function must return a `list` of `strings`"
   ]
  },
  {
   "cell_type": "code",
   "execution_count": 241,
   "metadata": {
    "deletable": false,
    "nbgrader": {
     "checksum": "26a6e78389c6d34f36ace498c9dd80d5",
     "grade": false,
     "grade_id": "cell-805fda04d2b4d41d",
     "locked": false,
     "schema_version": 1,
     "solution": true
    }
   },
   "outputs": [],
   "source": [
    "### START FUNCTION 9\n",
    "\n",
    "def best_team_3(country, no_attackers, no_defenders, no_midfielders, no_goalkeepers):\n",
    "    \n",
    "    # YOUR CODE HERE\n",
    "    team_country = df[df.Nationality == country]\n",
    "    p1 = list(team_country[team_country['Preferred Positions Type'] == 'Forward']\\\n",
    "        .sort_values(by=['Overall', 'Name'], ascending=False).index.values[0:no_attackers])\n",
    "    p2 = list(team_country[team_country['Preferred Positions Type'] == 'Back']\\\n",
    "        .sort_values(by=['Overall', 'Name'], ascending=False).index.values[0:no_defenders])\n",
    "    p3 = list(team_country[team_country['Preferred Positions Type'] == 'Midfielder']\\\n",
    "        .sort_values(by=['Overall', 'Name'], ascending=False).index.values[0:no_midfielders])\n",
    "    p4 = list(team_country[team_country['Preferred Positions Type'] == 'GoalKeeper']\\\n",
    "        .sort_values(by=['Overall', 'Name'], ascending=False).index.values[0:no_goalkeepers])\n",
    "    return p1 + p2 + p3 + p4\n",
    "    raise NotImplementedError()\n",
    "    \n",
    "### END FUNCTION 9"
   ]
  },
  {
   "cell_type": "code",
   "execution_count": 243,
   "metadata": {},
   "outputs": [
    {
     "data": {
      "text/plain": [
       "['Neymar',\n",
       " 'Coutinho',\n",
       " 'Willian',\n",
       " 'Thiago Silva',\n",
       " 'Marcelo',\n",
       " 'Miranda',\n",
       " 'Casemiro',\n",
       " 'Oscar',\n",
       " 'Fabinho',\n",
       " 'Taison',\n",
       " 'Ederson']"
      ]
     },
     "execution_count": 243,
     "metadata": {},
     "output_type": "execute_result"
    }
   ],
   "source": [
    "best_team_3('Brazil', 3, 3, 4, 1)"
   ]
  },
  {
   "cell_type": "code",
   "execution_count": 244,
   "metadata": {
    "deletable": false,
    "editable": false,
    "nbgrader": {
     "checksum": "198559e87d5059dc8212bab714ac78bf",
     "grade": true,
     "grade_id": "cell-1ef9940c851b0e14",
     "locked": true,
     "points": 1,
     "schema_version": 1,
     "solution": false
    }
   },
   "outputs": [
    {
     "data": {
      "text/plain": [
       "['H. Kane',\n",
       " 'R. Sterling',\n",
       " 'D. Sturridge',\n",
       " 'G. Cahill',\n",
       " 'K. Walker',\n",
       " 'N. Clyne',\n",
       " 'L. Baines',\n",
       " 'D. Alli',\n",
       " 'A. Lallana',\n",
       " 'J. Henderson',\n",
       " 'J. Hart']"
      ]
     },
     "execution_count": 244,
     "metadata": {},
     "output_type": "execute_result"
    }
   ],
   "source": [
    "best_team_3('England', 3, 4, 3, 1)"
   ]
  }
 ],
 "metadata": {
  "kernelspec": {
   "display_name": "Python 3",
   "language": "python",
   "name": "python3"
  },
  "language_info": {
   "codemirror_mode": {
    "name": "ipython",
    "version": 3
   },
   "file_extension": ".py",
   "mimetype": "text/x-python",
   "name": "python",
   "nbconvert_exporter": "python",
   "pygments_lexer": "ipython3",
   "version": "3.7.2"
  }
 },
 "nbformat": 4,
 "nbformat_minor": 2
}
