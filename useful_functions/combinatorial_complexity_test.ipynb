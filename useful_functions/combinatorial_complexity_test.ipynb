import sys
import numpy as np
import pandas as pd
%matplotlib inline

sys.path.append('./recursion/')
sys.path.append('./')
from .recursion.fibonacci_memoized import fibonacci_memoized
from .recursion.fibonacci import fibonacci
from .recursion.counting_routes_r as counting_routes_r

from counting_routes import counting_routes
from counting_routes_combinations import counting_routes_combinations


number = [2, 5, 10, 20, 50]
output = []
for n in number:
    out_combin = %timeit -o -q counting_routes_combinations(n)
    out_iter = %timeit -o -q counting_routes(n, n)
    out_recur_lu = %timeit -o -q counting_routes_r(n, n)
    if n <= 10:
        out_recur = %timeit -o -q counting_routes_r(n, n)
    else:
        out_recur = None
    output.append([n, out_combin.best, out_iter.best, out_recur_lu.best, out_recur.best if n <= 10 else None])

output = pd.DataFrame(output, columns='Grid Size', 'Combinations', 'Iterative', 'Recursive Lookup', 'Recursive'])
output.set_index('Grid Size', inplace=True)
output.plot(title='Time taken to solve Lattice Paths of various sizes')

output[['Combinations', 'Iterative', 'Recursive Lookup']].plot(title='Notice how the Iterative method scales with time')
